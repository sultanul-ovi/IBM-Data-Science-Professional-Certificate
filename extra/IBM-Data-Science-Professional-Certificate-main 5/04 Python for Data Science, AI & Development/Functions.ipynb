{
  "cells": [
    {
      "cell_type": "markdown",
      "metadata": {
        "id": "view-in-github",
        "colab_type": "text"
      },
      "source": [
        "<a href=\"https://colab.research.google.com/github/shivamtomershiv/IBM-Data-Science-Professional-Certificate/blob/main/04%20Python%20for%20Data%20Science%2C%20AI%20%26%20Development/Functions.ipynb\" target=\"_parent\"><img src=\"https://colab.research.google.com/assets/colab-badge.svg\" alt=\"Open In Colab\"/></a>"
      ]
    },
    {
      "cell_type": "markdown",
      "metadata": {
        "id": "vUGjNlDXuOHK"
      },
      "source": [
        "<p style=\"text-align:center\">\n",
        "    <a href=\"https://skills.network/?utm_medium=Exinfluencer&utm_source=Exinfluencer&utm_content=000026UJ&utm_term=10006555&utm_id=NA-SkillsNetwork-Channel-SkillsNetworkCoursesIBMDeveloperSkillsNetworkPY0101ENSkillsNetwork19487395-2022-01-01\">\n",
        "    <img src=\"https://cf-courses-data.s3.us.cloud-object-storage.appdomain.cloud/assets/logos/SN_web_lightmode.png\" width=\"200\" alt=\"Skills Network Logo\"  />\n",
        "    </a>\n",
        "</p>\n",
        "\n",
        "# Functions in Python\n",
        "\n",
        "Estimated time needed: **40** minutes\n",
        "\n",
        "## Objectives\n",
        "\n",
        "After completing this lab you will be able to:\n",
        "\n",
        "*   Understand functions and variables\n",
        "*   Work with functions and variables\n"
      ]
    },
    {
      "cell_type": "markdown",
      "metadata": {
        "id": "5s68lhJtuOHP"
      },
      "source": [
        "<h1>Functions in Python</h1>\n"
      ]
    },
    {
      "cell_type": "markdown",
      "metadata": {
        "id": "OY0k4UWnuOHP"
      },
      "source": [
        "<p><strong>Welcome!</strong> This notebook will teach you about the functions in the Python Programming Language. By the end of this lab, you'll know the basic concepts about function, variables, and how to use functions.</p>\n"
      ]
    },
    {
      "cell_type": "markdown",
      "metadata": {
        "id": "eO32-KbTuOHQ"
      },
      "source": [
        "<h2>Table of Contents</h2>\n",
        "<div class=\"alert alert-block alert-info\" style=\"margin-top: 20px\">\n",
        "    <ul>\n",
        "        <li>\n",
        "            <a href=\"https://#func\">Functions</a>\n",
        "            <ul>\n",
        "                <li><a href=\"https://content/?utm_medium=Exinfluencer&utm_source=Exinfluencer&utm_content=000026UJ&utm_term=10006555&utm_id=NA-SkillsNetwork-Channel-SkillsNetworkCoursesIBMDeveloperSkillsNetworkPY0101ENSkillsNetwork19487395-2022-01-01\">What is a function?</a></li>\n",
        "                <li><a href=\"https://var/?utm_medium=Exinfluencer&utm_source=Exinfluencer&utm_content=000026UJ&utm_term=10006555&utm_id=NA-SkillsNetwork-Channel-SkillsNetworkCoursesIBMDeveloperSkillsNetworkPY0101ENSkillsNetwork19487395-2022-01-01\">Variables</a></li>\n",
        "                <li><a href=\"https://simple/?utm_medium=Exinfluencer&utm_source=Exinfluencer&utm_content=000026UJ&utm_term=10006555&utm_id=NA-SkillsNetwork-Channel-SkillsNetworkCoursesIBMDeveloperSkillsNetworkPY0101ENSkillsNetwork19487395-2022-01-01\">Functions Make Things Simple</a></li>\n",
        "            </ul>\n",
        "        </li>\n",
        "        <li><a href=\"https://pre/?utm_medium=Exinfluencer&utm_source=Exinfluencer&utm_content=000026UJ&utm_term=10006555&utm_id=NA-SkillsNetwork-Channel-SkillsNetworkCoursesIBMDeveloperSkillsNetworkPY0101ENSkillsNetwork19487395-2022-01-01\">Pre-defined functions</a></li>\n",
        "        <li><a href=\"https://if/?utm_medium=Exinfluencer&utm_source=Exinfluencer&utm_content=000026UJ&utm_term=10006555&utm_id=NA-SkillsNetwork-Channel-SkillsNetworkCoursesIBMDeveloperSkillsNetworkPY0101ENSkillsNetwork19487395-2022-01-01\">Using <code>if</code>/<code>else</code> Statements and Loops in Functions</a></li>\n",
        "        <li><a href=\"https://default/?utm_medium=Exinfluencer&utm_source=Exinfluencer&utm_content=000026UJ&utm_term=10006555&utm_id=NA-SkillsNetwork-Channel-SkillsNetworkCoursesIBMDeveloperSkillsNetworkPY0101ENSkillsNetwork19487395-2022-01-01\">Setting default argument values in your custom functions</a></li>\n",
        "        <li><a href=\"https://global/?utm_medium=Exinfluencer&utm_source=Exinfluencer&utm_content=000026UJ&utm_term=10006555&utm_id=NA-SkillsNetwork-Channel-SkillsNetworkCoursesIBMDeveloperSkillsNetworkPY0101ENSkillsNetwork19487395-2022-01-01\">Global variables</a></li>\n",
        "        <li><a href=\"https://scope/?utm_medium=Exinfluencer&utm_source=Exinfluencer&utm_content=000026UJ&utm_term=10006555&utm_id=NA-SkillsNetwork-Channel-SkillsNetworkCoursesIBMDeveloperSkillsNetworkPY0101ENSkillsNetwork19487395-2022-01-01\">Scope of a Variable</a></li>\n",
        "        <li><a href=\"https://collec/?utm_medium=Exinfluencer&utm_source=Exinfluencer&utm_content=000026UJ&utm_term=10006555&utm_id=NA-SkillsNetwork-Channel-SkillsNetworkCoursesIBMDeveloperSkillsNetworkPY0101ENSkillsNetwork19487395-2022-01-01\">Collections and Functions</a></li>\n",
        "        <li>\n",
        "            <a href=\"https://#quiz\">Quiz on Loops</a>\n",
        "        </li>\n",
        "    </ul>\n",
        "\n",
        "</div>\n",
        "\n",
        "<hr>\n"
      ]
    },
    {
      "cell_type": "markdown",
      "metadata": {
        "id": "H6iKggupuOHR"
      },
      "source": [
        "<h2 id=\"func\">Functions</h2>\n"
      ]
    },
    {
      "cell_type": "markdown",
      "metadata": {
        "id": "q4X_21g9uOHR"
      },
      "source": [
        "A function is a reusable block of code which performs operations specified in the function. They let you break down tasks and allow you to reuse your code in different programs.\n",
        "\n",
        "There are two types of functions :\n",
        "\n",
        "*   <b>Pre-defined functions</b>\n",
        "*   <b>User defined functions</b>\n"
      ]
    },
    {
      "cell_type": "markdown",
      "metadata": {
        "id": "1821EhnUuOHR"
      },
      "source": [
        "<h3 id=\"content\">What is a Function?</h3>\n"
      ]
    },
    {
      "cell_type": "markdown",
      "metadata": {
        "id": "9f5iFfdfuOHS"
      },
      "source": [
        "You can define functions to provide the required functionality. Here are simple rules to define a function in Python:\n",
        "\n",
        "*   Functions blocks begin <code>def</code> followed by the function <code>name</code> and parentheses <code>()</code>.\n",
        "*   There are input parameters or arguments that should be placed within these parentheses.\n",
        "*   You can also define parameters inside these parentheses.\n",
        "*   There is a body within every function that starts with a colon (<code>:</code>) and is indented.\n",
        "*   You can also place documentation before the body.\n",
        "*   The statement <code>return</code> exits a function, optionally passing back a value.\n",
        "\n",
        "An example of a function that adds on to the parameter <code>a</code> prints and returns the output as <code>b</code>:\n"
      ]
    },
    {
      "cell_type": "code",
      "execution_count": 1,
      "metadata": {
        "trusted": true,
        "id": "m0fdbZrEuOHT"
      },
      "outputs": [],
      "source": [
        "# First function example: Add 1 to a and store as b\n",
        "\n",
        "def add(a):\n",
        "    \"\"\"\n",
        "    add 1 to a\n",
        "    \"\"\"\n",
        "    b = a + 1\n",
        "    print(a, \"if you add one\", b)\n",
        "    return(b)"
      ]
    },
    {
      "cell_type": "markdown",
      "metadata": {
        "id": "zgQ806P7uOHU"
      },
      "source": [
        "The figure below illustrates the terminology: <a href=\"https://cf-courses-data.s3.us.cloud-object-storage.appdomain.cloud/IBMDeveloperSkillsNetwork-PY0101EN-SkillsNetwork/labs/Module%203/images/FuncsDefinition.png\">**Figure**</a>"
      ]
    },
    {
      "cell_type": "markdown",
      "metadata": {
        "id": "2wrkjaG8uOHU"
      },
      "source": [
        "We can obtain help about a function :\n"
      ]
    },
    {
      "cell_type": "code",
      "execution_count": 2,
      "metadata": {
        "trusted": true,
        "colab": {
          "base_uri": "https://localhost:8080/"
        },
        "id": "buK2GHk_uOHV",
        "outputId": "056d2481-2642-4e08-b160-d5d9690e909a"
      },
      "outputs": [
        {
          "output_type": "stream",
          "name": "stdout",
          "text": [
            "Help on function add in module __main__:\n",
            "\n",
            "add(a)\n",
            "    add 1 to a\n",
            "\n"
          ]
        }
      ],
      "source": [
        "# Get a help on add function\n",
        "\n",
        "help(add)"
      ]
    },
    {
      "cell_type": "markdown",
      "metadata": {
        "id": "-23a0QQduOHV"
      },
      "source": [
        "We can call the function:\n"
      ]
    },
    {
      "cell_type": "code",
      "execution_count": 3,
      "metadata": {
        "trusted": true,
        "colab": {
          "base_uri": "https://localhost:8080/"
        },
        "id": "WI8-IerjuOHV",
        "outputId": "cdaaf5d4-4cb9-4f93-e2aa-dc08c59a0202"
      },
      "outputs": [
        {
          "output_type": "stream",
          "name": "stdout",
          "text": [
            "1 if you add one 2\n"
          ]
        },
        {
          "output_type": "execute_result",
          "data": {
            "text/plain": [
              "2"
            ]
          },
          "metadata": {},
          "execution_count": 3
        }
      ],
      "source": [
        "# Call the function add()\n",
        "\n",
        "add(1)"
      ]
    },
    {
      "cell_type": "markdown",
      "metadata": {
        "id": "IbrK3Gz4uOHW"
      },
      "source": [
        "If we call the function with a new input we get a new result:\n"
      ]
    },
    {
      "cell_type": "code",
      "execution_count": 4,
      "metadata": {
        "trusted": true,
        "colab": {
          "base_uri": "https://localhost:8080/"
        },
        "id": "z6L8tYBDuOHW",
        "outputId": "b7b9d6c6-5a7f-4eb9-a033-60b6eb761358"
      },
      "outputs": [
        {
          "output_type": "stream",
          "name": "stdout",
          "text": [
            "2 if you add one 3\n"
          ]
        },
        {
          "output_type": "execute_result",
          "data": {
            "text/plain": [
              "3"
            ]
          },
          "metadata": {},
          "execution_count": 4
        }
      ],
      "source": [
        "# Call the function add()\n",
        "\n",
        "add(2)"
      ]
    },
    {
      "cell_type": "markdown",
      "metadata": {
        "id": "R-8HxS5BuOHW"
      },
      "source": [
        "We can create different functions. For example, we can create a function that multiplies two numbers. The numbers will be represented by the variables <code>a</code> and <code>b</code>:\n"
      ]
    },
    {
      "cell_type": "code",
      "execution_count": 5,
      "metadata": {
        "trusted": true,
        "colab": {
          "base_uri": "https://localhost:8080/"
        },
        "id": "9o_z7SmCuOHW",
        "outputId": "ca2c6639-0cae-4675-e2a4-58cd6998d636"
      },
      "outputs": [
        {
          "output_type": "stream",
          "name": "stdout",
          "text": [
            "24\n"
          ]
        }
      ],
      "source": [
        "# Define a function for multiple two numbers\n",
        "\n",
        "def Mult(a, b):\n",
        "    c = a * b\n",
        "    return(c)\n",
        "    print('This is not printed')\n",
        "\n",
        "result = Mult(12,2)\n",
        "print(result)"
      ]
    },
    {
      "cell_type": "markdown",
      "metadata": {
        "id": "mh0rZ0SfuOHW"
      },
      "source": [
        "The same function can be used for different data types. For example, we can multiply two integers:\n"
      ]
    },
    {
      "cell_type": "code",
      "execution_count": 6,
      "metadata": {
        "trusted": true,
        "colab": {
          "base_uri": "https://localhost:8080/"
        },
        "id": "KFnhEqXkuOHX",
        "outputId": "e4e11b0c-35aa-40e3-d32f-5d57c7beb8c4"
      },
      "outputs": [
        {
          "output_type": "execute_result",
          "data": {
            "text/plain": [
              "6"
            ]
          },
          "metadata": {},
          "execution_count": 6
        }
      ],
      "source": [
        "# Use mult() multiply two integers\n",
        "\n",
        "Mult(2, 3)"
      ]
    },
    {
      "cell_type": "markdown",
      "metadata": {
        "id": "1zUS4XN4uOHX"
      },
      "source": [
        "Note how the function terminates at the <code> return </code> statement, while passing back a value. This value can be further assigned to a different variable as desired.\n",
        "\n",
        "<hr>\n",
        "The same function can be used for different data types. For example, we can multiply two integers:\n"
      ]
    },
    {
      "cell_type": "markdown",
      "metadata": {
        "id": "wUL3bT-TuOHX"
      },
      "source": [
        "Two Floats:\n"
      ]
    },
    {
      "cell_type": "code",
      "execution_count": 7,
      "metadata": {
        "trusted": true,
        "colab": {
          "base_uri": "https://localhost:8080/"
        },
        "id": "u5wxgYA9uOHX",
        "outputId": "24a5e9fa-3627-4e4e-a8a1-b8728b1601a2"
      },
      "outputs": [
        {
          "output_type": "execute_result",
          "data": {
            "text/plain": [
              "31.400000000000002"
            ]
          },
          "metadata": {},
          "execution_count": 7
        }
      ],
      "source": [
        "# Use mult() multiply two floats\n",
        "\n",
        "Mult(10.0, 3.14)"
      ]
    },
    {
      "cell_type": "markdown",
      "metadata": {
        "id": "3Fhuo3LOuOHX"
      },
      "source": [
        "We can even replicate a string by multiplying with an integer:\n"
      ]
    },
    {
      "cell_type": "code",
      "execution_count": 8,
      "metadata": {
        "trusted": true,
        "colab": {
          "base_uri": "https://localhost:8080/",
          "height": 36
        },
        "id": "nU4VZRYhuOHY",
        "outputId": "cf4e76cc-96b8-4ec9-d86b-0314f16b18ff"
      },
      "outputs": [
        {
          "output_type": "execute_result",
          "data": {
            "text/plain": [
              "'Michael Jackson Michael Jackson '"
            ],
            "application/vnd.google.colaboratory.intrinsic+json": {
              "type": "string"
            }
          },
          "metadata": {},
          "execution_count": 8
        }
      ],
      "source": [
        "# Use mult() multiply two different type values together\n",
        "\n",
        "Mult(2, \"Michael Jackson \")"
      ]
    },
    {
      "cell_type": "markdown",
      "metadata": {
        "id": "HkxhS_CHuOHY"
      },
      "source": [
        "<h3 id=\"var\">Variables</h3>\n"
      ]
    },
    {
      "cell_type": "markdown",
      "metadata": {
        "id": "5KKu_D71uOHY"
      },
      "source": [
        "The input to a function is called a formal parameter.\n",
        "\n",
        "A variable that is declared inside a function is called a  local variable. The parameter only exists within the function (i.e. the point where the function starts and stops).\n",
        "\n",
        "A variable that is declared outside a function definition is a global variable, and its value is accessible and modifiable throughout the program. We will discuss more about global variables at the end of the lab.\n"
      ]
    },
    {
      "cell_type": "code",
      "execution_count": 9,
      "metadata": {
        "trusted": true,
        "id": "HVK6I8QFuOHY"
      },
      "outputs": [],
      "source": [
        "# Function Definition\n",
        "\n",
        "def square(a):\n",
        "\n",
        "    # Local variable b\n",
        "    b = 1\n",
        "    c = a * a + b\n",
        "    print(a, \"if you square + 1\", c)\n",
        "    return(c)"
      ]
    },
    {
      "cell_type": "markdown",
      "metadata": {
        "id": "2DtfE4dvuOHY"
      },
      "source": [
        "The labels are displayed in the figure: <a href=\"https://cf-courses-data.s3.us.cloud-object-storage.appdomain.cloud/IBMDeveloperSkillsNetwork-PY0101EN-SkillsNetwork/labs/Module%203/images/FuncsVar.png\">**Figure**</a>"
      ]
    },
    {
      "cell_type": "markdown",
      "metadata": {
        "id": "pbbI3sMyuOHZ"
      },
      "source": [
        "We can call the function  with an input of <b>3</b>:\n"
      ]
    },
    {
      "cell_type": "code",
      "execution_count": 10,
      "metadata": {
        "trusted": true,
        "colab": {
          "base_uri": "https://localhost:8080/"
        },
        "id": "VEzcLTieuOHZ",
        "outputId": "c9be6cbb-5fc8-4745-8608-ad5fd639d4f1"
      },
      "outputs": [
        {
          "output_type": "stream",
          "name": "stdout",
          "text": [
            "3 if you square + 1 10\n"
          ]
        },
        {
          "output_type": "execute_result",
          "data": {
            "text/plain": [
              "10"
            ]
          },
          "metadata": {},
          "execution_count": 10
        }
      ],
      "source": [
        "# Initializes Global variable\n",
        "\n",
        "x = 3\n",
        "# Makes function call and return function a y\n",
        "y = square(x)\n",
        "y"
      ]
    },
    {
      "cell_type": "markdown",
      "metadata": {
        "id": "i3HtzOSuuOHa"
      },
      "source": [
        "We can call the function  with an input of <b>2</b> in a different manner:\n"
      ]
    },
    {
      "cell_type": "code",
      "execution_count": 11,
      "metadata": {
        "trusted": true,
        "colab": {
          "base_uri": "https://localhost:8080/"
        },
        "id": "WzJD7j4_uOHa",
        "outputId": "fad9195a-0a2a-4a3e-bcd0-e5c0e9d095ec"
      },
      "outputs": [
        {
          "output_type": "stream",
          "name": "stdout",
          "text": [
            "2 if you square + 1 5\n"
          ]
        },
        {
          "output_type": "execute_result",
          "data": {
            "text/plain": [
              "5"
            ]
          },
          "metadata": {},
          "execution_count": 11
        }
      ],
      "source": [
        "# Directly enter a number as parameter\n",
        "\n",
        "square(2)"
      ]
    },
    {
      "cell_type": "markdown",
      "metadata": {
        "id": "TrFBRrdVuOHa"
      },
      "source": [
        "If there is no <code>return</code> statement, the function returns <code>None</code>. The following two functions are equivalent:\n"
      ]
    },
    {
      "cell_type": "code",
      "execution_count": 12,
      "metadata": {
        "trusted": true,
        "id": "nZtgtJ2DuOHb"
      },
      "outputs": [],
      "source": [
        "# Define functions, one with return value None and other without return value\n",
        "\n",
        "def MJ():\n",
        "    print('Michael Jackson')\n",
        "\n",
        "def MJ1():\n",
        "    print('Michael Jackson')\n",
        "    return(None)"
      ]
    },
    {
      "cell_type": "code",
      "execution_count": 13,
      "metadata": {
        "trusted": true,
        "colab": {
          "base_uri": "https://localhost:8080/"
        },
        "id": "CmzVjG9tuOHb",
        "outputId": "ae3b328f-a8d6-4324-e016-9834dd476a2a"
      },
      "outputs": [
        {
          "output_type": "stream",
          "name": "stdout",
          "text": [
            "Michael Jackson\n"
          ]
        }
      ],
      "source": [
        "# See the output\n",
        "\n",
        "MJ()"
      ]
    },
    {
      "cell_type": "code",
      "execution_count": 14,
      "metadata": {
        "trusted": true,
        "colab": {
          "base_uri": "https://localhost:8080/"
        },
        "id": "sZMT_TD9uOHb",
        "outputId": "6ea9b0d4-92f8-40e2-b1ff-64696f15c7ee"
      },
      "outputs": [
        {
          "output_type": "stream",
          "name": "stdout",
          "text": [
            "Michael Jackson\n"
          ]
        }
      ],
      "source": [
        "# See the output\n",
        "\n",
        "MJ1()"
      ]
    },
    {
      "cell_type": "markdown",
      "metadata": {
        "id": "PRe3Yx8GuOHc"
      },
      "source": [
        "Printing the function after a call reveals a **None** is the default return statement:\n"
      ]
    },
    {
      "cell_type": "code",
      "execution_count": 15,
      "metadata": {
        "trusted": true,
        "colab": {
          "base_uri": "https://localhost:8080/"
        },
        "id": "A9mjuFu8uOHd",
        "outputId": "88e873b4-db2c-4ecb-e1ee-f8efff62228b"
      },
      "outputs": [
        {
          "output_type": "stream",
          "name": "stdout",
          "text": [
            "Michael Jackson\n",
            "None\n",
            "Michael Jackson\n",
            "None\n"
          ]
        }
      ],
      "source": [
        "# See what functions returns are\n",
        "\n",
        "print(MJ())\n",
        "print(MJ1())"
      ]
    },
    {
      "cell_type": "markdown",
      "metadata": {
        "id": "xIkHVsXtuOHd"
      },
      "source": [
        "Create a function <code>con</code> that  concatenates two strings using the addition operation:\n"
      ]
    },
    {
      "cell_type": "code",
      "execution_count": 16,
      "metadata": {
        "trusted": true,
        "id": "O4qYENr5uOHd"
      },
      "outputs": [],
      "source": [
        "# Define the function for combining strings\n",
        "\n",
        "def con(a, b):\n",
        "    return(a + b)"
      ]
    },
    {
      "cell_type": "code",
      "execution_count": 17,
      "metadata": {
        "trusted": true,
        "colab": {
          "base_uri": "https://localhost:8080/",
          "height": 36
        },
        "id": "zKC3bTmsuOHe",
        "outputId": "cb8aacd1-2558-447b-ab09-5950bb2fe31e"
      },
      "outputs": [
        {
          "output_type": "execute_result",
          "data": {
            "text/plain": [
              "'This is'"
            ],
            "application/vnd.google.colaboratory.intrinsic+json": {
              "type": "string"
            }
          },
          "metadata": {},
          "execution_count": 17
        }
      ],
      "source": [
        "# Test on the con() function\n",
        "\n",
        "con(\"This \", \"is\")"
      ]
    },
    {
      "cell_type": "markdown",
      "metadata": {
        "id": "3vhtY4G3uOHe"
      },
      "source": [
        "<hr/>\n",
        "    <div class=\"alert alert-success alertsuccess\" style=\"margin-top: 20px\">\n",
        "        <h4> [Tip] How do I learn more about the pre-defined functions in Python? </h4>\n",
        "        <p>We will be introducing a variety of pre-defined functions to you as you learn more about Python. There are just too many functions, so there's no way we can teach them all in one sitting. But if you'd like to take a quick peek, here's a short reference card for some of the commonly-used pre-defined functions: <a href=\"https://cf-courses-data.s3.us.cloud-object-storage.appdomain.cloud/IBMDeveloperSkillsNetwork-PY0101EN-SkillsNetwork/labs/Module%203/Python_reference_sheet.pdf?utm_medium=Exinfluencer&utm_source=Exinfluencer&utm_content=000026UJ&utm_term=10006555&utm_id=NA-SkillsNetwork-Channel-SkillsNetworkCoursesIBMDeveloperSkillsNetworkPY0101ENSkillsNetwork19487395-2022-01-01\">Reference</a></p>\n",
        "    </div>\n",
        "<hr/>\n"
      ]
    },
    {
      "cell_type": "markdown",
      "metadata": {
        "id": "mSVtRsb7uOHf"
      },
      "source": [
        "<h3 id=\"simple\">Functions Make Things Simple</h3>\n"
      ]
    },
    {
      "cell_type": "markdown",
      "metadata": {
        "id": "Sw2pr6E4uOHf"
      },
      "source": [
        "Consider the two lines of code in <b>Block 1</b> and <b>Block 2</b>: the procedure for each block is identical. The only thing that is different is the variable names and values.\n"
      ]
    },
    {
      "cell_type": "markdown",
      "metadata": {
        "id": "sczBVxHcuOHf"
      },
      "source": [
        "<h4>Block 1:</h4>\n"
      ]
    },
    {
      "cell_type": "code",
      "execution_count": 18,
      "metadata": {
        "trusted": true,
        "colab": {
          "base_uri": "https://localhost:8080/"
        },
        "id": "F1fj2I3nuOHf",
        "outputId": "9c107a74-af5c-4a92-95b0-3cad7e0967bf"
      },
      "outputs": [
        {
          "output_type": "execute_result",
          "data": {
            "text/plain": [
              "5"
            ]
          },
          "metadata": {},
          "execution_count": 18
        }
      ],
      "source": [
        "# a and b calculation block1\n",
        "\n",
        "a1 = 4\n",
        "b1 = 5\n",
        "c1 = a1 + b1 + 2 * a1 * b1 - 1\n",
        "if(c1 < 0):\n",
        "    c1 = 0\n",
        "else:\n",
        "    c1 = 5\n",
        "c1"
      ]
    },
    {
      "cell_type": "markdown",
      "metadata": {
        "id": "Vz3EPk9zuOHf"
      },
      "source": [
        "<h4>Block 2:</h4>\n"
      ]
    },
    {
      "cell_type": "code",
      "execution_count": 19,
      "metadata": {
        "trusted": true,
        "colab": {
          "base_uri": "https://localhost:8080/"
        },
        "id": "fhDPxR1muOHf",
        "outputId": "248921aa-e33a-4d10-b4e1-c94ec8255143"
      },
      "outputs": [
        {
          "output_type": "execute_result",
          "data": {
            "text/plain": [
              "0"
            ]
          },
          "metadata": {},
          "execution_count": 19
        }
      ],
      "source": [
        "# a and b calculation block2\n",
        "\n",
        "a2 = 0\n",
        "b2 = 0\n",
        "c2 = a2 + b2 + 2 * a2 * b2 - 1\n",
        "if(c2 < 0):\n",
        "    c2 = 0\n",
        "else:\n",
        "    c2 = 5\n",
        "c2"
      ]
    },
    {
      "cell_type": "markdown",
      "metadata": {
        "id": "DJSdwvxIuOHf"
      },
      "source": [
        "We can replace the lines of code with a function. A function combines many instructions into a single line of code. Once a function is defined, it can be used repeatedly. You can invoke the same function many times in your program. You can save your function and use it in another program or use someone else’s function. The lines of code in code <b>Block 1</b> and code <b>Block 2</b> can be replaced by the following function:\n"
      ]
    },
    {
      "cell_type": "code",
      "execution_count": 20,
      "metadata": {
        "trusted": true,
        "id": "aKoO6A1juOHg"
      },
      "outputs": [],
      "source": [
        "# Make a Function for the calculation above\n",
        "\n",
        "def Equation(a,b):\n",
        "    c = a + b + 2 * a * b - 1\n",
        "    if(c < 0):\n",
        "        c = 0\n",
        "    else:\n",
        "        c = 5\n",
        "    return(c)"
      ]
    },
    {
      "cell_type": "markdown",
      "metadata": {
        "id": "WWTOAUFxuOHg"
      },
      "source": [
        "This function takes two inputs, a and b, then applies several operations to return c.\n",
        "We simply define the function, replace the instructions with the function, and input the new values of <code>a1</code>, <code>b1</code> and <code>a2</code>, <code>b2</code> as inputs. The entire process is demonstrated in the figure: <a href=\"https://cf-courses-data.s3.us.cloud-object-storage.appdomain.cloud/IBMDeveloperSkillsNetwork-PY0101EN-SkillsNetwork/labs/Module%203/images/FuncsPros.gif\">**Figure**</a>"
      ]
    },
    {
      "cell_type": "markdown",
      "metadata": {
        "id": "ITyIG_FfuOHg"
      },
      "source": [
        "Code **Blocks 1** and **Block 2** can now be replaced with code **Block 3** and code **Block 4**.\n"
      ]
    },
    {
      "cell_type": "markdown",
      "metadata": {
        "id": "or5ynSq0uOHg"
      },
      "source": [
        "<h4>Block 3:</h4>\n"
      ]
    },
    {
      "cell_type": "code",
      "execution_count": 21,
      "metadata": {
        "trusted": true,
        "colab": {
          "base_uri": "https://localhost:8080/"
        },
        "id": "pA0COixPuOHg",
        "outputId": "35c2fe8a-714a-48b5-d93d-3741b9830d25"
      },
      "outputs": [
        {
          "output_type": "execute_result",
          "data": {
            "text/plain": [
              "5"
            ]
          },
          "metadata": {},
          "execution_count": 21
        }
      ],
      "source": [
        "a1 = 4\n",
        "b1 = 5\n",
        "c1 = Equation(a1, b1)\n",
        "c1"
      ]
    },
    {
      "cell_type": "markdown",
      "metadata": {
        "id": "9MR3Zj_fuOHg"
      },
      "source": [
        "<h4>Block 4:</h4>\n"
      ]
    },
    {
      "cell_type": "code",
      "execution_count": 22,
      "metadata": {
        "trusted": true,
        "colab": {
          "base_uri": "https://localhost:8080/"
        },
        "id": "gLtO85QAuOHg",
        "outputId": "fd4d38dc-bdc8-4fee-8692-b45f0f8fd288"
      },
      "outputs": [
        {
          "output_type": "execute_result",
          "data": {
            "text/plain": [
              "0"
            ]
          },
          "metadata": {},
          "execution_count": 22
        }
      ],
      "source": [
        "a2 = 0\n",
        "b2 = 0\n",
        "c2 = Equation(a2, b2)\n",
        "c2"
      ]
    },
    {
      "cell_type": "markdown",
      "metadata": {
        "id": "vfR0l9gOuOHg"
      },
      "source": [
        "<hr>\n"
      ]
    },
    {
      "cell_type": "markdown",
      "metadata": {
        "id": "SlZwk7r3uOHh"
      },
      "source": [
        "<h2 id=\"pre\">Pre-defined functions</h2>\n"
      ]
    },
    {
      "cell_type": "markdown",
      "metadata": {
        "id": "UFaCLdl-uOHh"
      },
      "source": [
        "There are many pre-defined functions in Python, so let's start with the simple ones.\n"
      ]
    },
    {
      "cell_type": "markdown",
      "metadata": {
        "id": "gDu6lq9BuOHh"
      },
      "source": [
        "The <code>print()</code> function:\n"
      ]
    },
    {
      "cell_type": "code",
      "execution_count": 23,
      "metadata": {
        "trusted": true,
        "colab": {
          "base_uri": "https://localhost:8080/"
        },
        "id": "sIXFwHVcuOHh",
        "outputId": "eb3b190c-ee7d-4f61-b836-b7d44135d1b2"
      },
      "outputs": [
        {
          "output_type": "stream",
          "name": "stdout",
          "text": [
            "[10.0, 8.5, 9.5, 7.0, 7.0, 9.5, 9.0, 9.5]\n"
          ]
        }
      ],
      "source": [
        "# Build-in function print()\n",
        "\n",
        "album_ratings = [10.0, 8.5, 9.5, 7.0, 7.0, 9.5, 9.0, 9.5]\n",
        "print(album_ratings)"
      ]
    },
    {
      "cell_type": "markdown",
      "metadata": {
        "id": "g5x2dH1EuOHh"
      },
      "source": [
        "The <code>sum()</code> function adds all the  elements in a list or tuple:\n"
      ]
    },
    {
      "cell_type": "code",
      "execution_count": 24,
      "metadata": {
        "trusted": true,
        "colab": {
          "base_uri": "https://localhost:8080/"
        },
        "id": "PclAxZCIuOHh",
        "outputId": "825d27e7-da69-4ccb-ffa2-6b6a845adb75"
      },
      "outputs": [
        {
          "output_type": "execute_result",
          "data": {
            "text/plain": [
              "70.0"
            ]
          },
          "metadata": {},
          "execution_count": 24
        }
      ],
      "source": [
        "# Use sum() to add every element in a list or tuple together\n",
        "\n",
        "sum(album_ratings)"
      ]
    },
    {
      "cell_type": "markdown",
      "metadata": {
        "id": "WkSIRS_ouOHh"
      },
      "source": [
        "The <code>len()</code> function returns the length of a list or tuple:\n"
      ]
    },
    {
      "cell_type": "code",
      "execution_count": 25,
      "metadata": {
        "trusted": true,
        "colab": {
          "base_uri": "https://localhost:8080/"
        },
        "id": "lStvjK9JuOHh",
        "outputId": "d97beb2a-b95f-4cc9-f691-3a3b146889aa"
      },
      "outputs": [
        {
          "output_type": "execute_result",
          "data": {
            "text/plain": [
              "8"
            ]
          },
          "metadata": {},
          "execution_count": 25
        }
      ],
      "source": [
        "# Show the length of the list or tuple\n",
        "\n",
        "len(album_ratings)"
      ]
    },
    {
      "cell_type": "markdown",
      "metadata": {
        "id": "JH3O1-TzuOHh"
      },
      "source": [
        "<h2 id=\"if\">Using <code>if</code>/<code>else</code> Statements and Loops in Functions</h2>\n"
      ]
    },
    {
      "cell_type": "markdown",
      "metadata": {
        "id": "jFsEZdU1uOHh"
      },
      "source": [
        "The <code>return()</code> function is particularly useful if you have any IF statements in the function, when you want your output to be dependent on some condition:\n"
      ]
    },
    {
      "cell_type": "code",
      "execution_count": 26,
      "metadata": {
        "trusted": true,
        "colab": {
          "base_uri": "https://localhost:8080/"
        },
        "id": "Un_e1qpnuOHh",
        "outputId": "d5c84d6c-dc4f-4122-c44f-77baa026e042"
      },
      "outputs": [
        {
          "output_type": "stream",
          "name": "stdout",
          "text": [
            "Michael Jackson Thriller 1980\n",
            "Oldie\n"
          ]
        }
      ],
      "source": [
        "# Function example\n",
        "\n",
        "def type_of_album(artist, album, year_released):\n",
        "\n",
        "    print(artist, album, year_released)\n",
        "    if year_released > 1980:\n",
        "        return \"Modern\"\n",
        "    else:\n",
        "        return \"Oldie\"\n",
        "\n",
        "x = type_of_album(\"Michael Jackson\", \"Thriller\", 1980)\n",
        "print(x)"
      ]
    },
    {
      "cell_type": "markdown",
      "metadata": {
        "id": "4LNJLHvOuOHi"
      },
      "source": [
        "We can use a loop in a function. For example, we can <code>print</code> out each element in a list:\n"
      ]
    },
    {
      "cell_type": "code",
      "execution_count": 27,
      "metadata": {
        "trusted": true,
        "id": "Dxs7ETPjuOHi"
      },
      "outputs": [],
      "source": [
        "# Print the list using for loop\n",
        "\n",
        "def PrintList(the_list):\n",
        "    for element in the_list:\n",
        "        print(element)"
      ]
    },
    {
      "cell_type": "code",
      "execution_count": 28,
      "metadata": {
        "trusted": true,
        "colab": {
          "base_uri": "https://localhost:8080/"
        },
        "id": "LQuQxSfHuOHi",
        "outputId": "241c22e5-4b2d-4063-914f-4c78682bbedb"
      },
      "outputs": [
        {
          "output_type": "stream",
          "name": "stdout",
          "text": [
            "1\n",
            "1\n",
            "the man\n",
            "abc\n"
          ]
        }
      ],
      "source": [
        "# Implement the printlist function\n",
        "\n",
        "PrintList(['1', 1, 'the man', \"abc\"])"
      ]
    },
    {
      "cell_type": "markdown",
      "metadata": {
        "id": "VN-KEuFsuOHi"
      },
      "source": [
        "<h2 id=\"if\">String comparison in Functions</h2>\n"
      ]
    },
    {
      "cell_type": "markdown",
      "metadata": {
        "id": "PFlZipnQuOHi"
      },
      "source": [
        "The relational operators compare the Unicode values of the characters of the strings from the zeroth index till the end of the string. It then returns a boolean value according to the operator used.\n"
      ]
    },
    {
      "cell_type": "code",
      "execution_count": 29,
      "metadata": {
        "trusted": true,
        "colab": {
          "base_uri": "https://localhost:8080/",
          "height": 36
        },
        "id": "hbZXJOkHuOHi",
        "outputId": "79eaa0eb-39fa-4a2c-fdc7-a4f1c32195c6"
      },
      "outputs": [
        {
          "output_type": "execute_result",
          "data": {
            "text/plain": [
              "'String matched'"
            ],
            "application/vnd.google.colaboratory.intrinsic+json": {
              "type": "string"
            }
          },
          "metadata": {},
          "execution_count": 29
        }
      ],
      "source": [
        "#Compare Two Strings Directly using in operator\n",
        "# add string\n",
        "string= \"Michael Jackson is the best\"\n",
        "\n",
        "# Define a funtion\n",
        "def check_string(text):\n",
        "\n",
        "# Use if else statement and 'in' operatore to compare the string\n",
        "    if text in string:\n",
        "        return 'String matched'\n",
        "    else:\n",
        "        return 'String not matched'\n",
        "\n",
        "check_string(\"Michael Jackson is the best\")"
      ]
    },
    {
      "cell_type": "markdown",
      "metadata": {
        "id": "YCtFN7X2uOHi"
      },
      "source": [
        "This program uses a user-defined function named compareStrings() to compare two strings.\n",
        "\n",
        "This function receives both strings as its argument and returns 1 if both strings are equal using == operator\n"
      ]
    },
    {
      "cell_type": "code",
      "execution_count": 30,
      "metadata": {
        "trusted": true,
        "colab": {
          "base_uri": "https://localhost:8080/"
        },
        "id": "lJCfc4RbuOHi",
        "outputId": "fa062498-3e5a-4300-814a-ab71cf7837f0"
      },
      "outputs": [
        {
          "output_type": "stream",
          "name": "stdout",
          "text": [
            "\n",
            "String Matched\n"
          ]
        }
      ],
      "source": [
        "#Compare two strings using == operator and function\n",
        "def compareStrings(x, y):\n",
        "# Use if else statement to compare x and y\n",
        "    if x==y:\n",
        "        return 1\n",
        "\n",
        "# Declare two different variables as string1 and string2 and pass string in it\n",
        "string1 = \"Michael Jackson is the best\"\n",
        "string2 = \"Michael Jackson is the best\"\n",
        "\n",
        "# Declare a variable to store result after comparing both the strings\n",
        "check = compareStrings(string1, string2)\n",
        "\n",
        "#Use if else statement to compare the string\n",
        "if check==1:\n",
        "    print(\"\\nString Matched\")\n",
        "else:\n",
        "    print(\"\\nString not Matched\")"
      ]
    },
    {
      "cell_type": "markdown",
      "metadata": {
        "id": "fUxg30dTuOHi"
      },
      "source": [
        "**Count the Frequency of Words Appearing in a String Using a Dictionary.**\n",
        "\n",
        "Find the count of occurence of any word in our string using python. This is what we are going to do in this section, count the number of word in a given string and print it.\n",
        "\n",
        "Lets suppose we have a ‘string’ and the ‘word’ and we need to find the count of occurence of this word in our string using python. This is what we are going to do in this section, count the number of word in a given string and print it.\n",
        "\n",
        "The first thing, we will do is define a function and and then create a list that will be empty initially.\n",
        "\n",
        "Next, we will add a code to convert the string to a list. Python string has a split() method. It takes a string and some separator to return a list.\n",
        "\n",
        "Now we will declare an empty dictionary.\n",
        "\n",
        "Next we will add code using for loop to iterate the words and value will will count the frequency of each words in the string and store them to the dictionary.\n",
        "\n",
        "Finally we will print the dictionary.\n"
      ]
    },
    {
      "cell_type": "code",
      "execution_count": 31,
      "metadata": {
        "trusted": true,
        "colab": {
          "base_uri": "https://localhost:8080/"
        },
        "id": "AAJ8-01FuOHj",
        "outputId": "882ef1f3-b615-4b20-da9c-fe0a5d0f61ea"
      },
      "outputs": [
        {
          "output_type": "stream",
          "name": "stdout",
          "text": [
            "The Frequency of words is: {'Mary': 6, 'had': 2, 'a': 2, 'little': 3, 'lamb': 3, 'Little': 1, 'lamb,': 1, 'lamb.Its': 1, 'fleece': 1, 'was': 2, 'white': 1, 'as': 1, 'snow': 1, 'And': 1, 'everywhere': 1, 'that': 2, 'went': 3, 'went,': 1, 'Everywhere': 1, 'The': 1, 'sure': 1, 'to': 1, 'go': 1}\n"
          ]
        }
      ],
      "source": [
        "# Python Program to Count words in a String using Dictionary\n",
        "def freq(string):\n",
        "\n",
        "    #step1: A list variable is declared and initialized to an empty list.\n",
        "    words = []\n",
        "\n",
        "    #step2: Break the string into list of words\n",
        "    words = string.split() # or string.lower().split()\n",
        "\n",
        "    #step3: Declare a dictionary\n",
        "    Dict = {}\n",
        "\n",
        "    #step4: Use for loop to iterate words and values to the dictionary\n",
        "    for key in words:\n",
        "        Dict[key] = words.count(key)\n",
        "\n",
        "    #step5: Print the dictionary\n",
        "    print(\"The Frequency of words is:\",Dict)\n",
        "\n",
        "#step6: Call function and pass string in it\n",
        "freq(\"Mary had a little lamb Little lamb, little lamb Mary had a little lamb.Its fleece was white as snow And everywhere that Mary went Mary went, Mary went \\\n",
        "Everywhere that Mary went The lamb was sure to go\")"
      ]
    },
    {
      "cell_type": "markdown",
      "metadata": {
        "id": "lgXFypV5uOHj"
      },
      "source": [
        "<hr>\n"
      ]
    },
    {
      "cell_type": "markdown",
      "metadata": {
        "id": "nbUDTqJnuOHj"
      },
      "source": [
        "<h2 id=\"default\">Setting default argument values in your custom functions</h2>\n"
      ]
    },
    {
      "cell_type": "markdown",
      "metadata": {
        "id": "t1Z4mXPKuOHj"
      },
      "source": [
        "You can set a default value for arguments in your function. For example, in the <code>isGoodRating()</code> function, what if we wanted to create a threshold for what we consider to be a good rating? Perhaps by default, we should have a default rating of 4:\n"
      ]
    },
    {
      "cell_type": "code",
      "execution_count": 32,
      "metadata": {
        "trusted": true,
        "id": "NSiMDRe4uOHj"
      },
      "outputs": [],
      "source": [
        "# Example for setting param with default value\n",
        "\n",
        "def isGoodRating(rating=4):\n",
        "    if(rating < 7):\n",
        "        print(\"this album sucks it's rating is\",rating)\n",
        "\n",
        "    else:\n",
        "        print(\"this album is good its rating is\",rating)\n"
      ]
    },
    {
      "cell_type": "code",
      "execution_count": 33,
      "metadata": {
        "trusted": true,
        "colab": {
          "base_uri": "https://localhost:8080/"
        },
        "id": "vpy73a5_uOHj",
        "outputId": "4c2ce3de-75a1-493e-d0da-646f516a112e"
      },
      "outputs": [
        {
          "output_type": "stream",
          "name": "stdout",
          "text": [
            "this album sucks it's rating is 4\n",
            "this album is good its rating is 10\n"
          ]
        }
      ],
      "source": [
        "# Test the value with default value and with input\n",
        "\n",
        "isGoodRating()\n",
        "isGoodRating(10)"
      ]
    },
    {
      "cell_type": "markdown",
      "metadata": {
        "id": "f61HPytNuOHj"
      },
      "source": [
        "<hr>\n"
      ]
    },
    {
      "cell_type": "markdown",
      "metadata": {
        "id": "ww7mRKl3uOHj"
      },
      "source": [
        "<h2 id=\"global\">Global variables</h2>\n"
      ]
    },
    {
      "cell_type": "markdown",
      "metadata": {
        "id": "4ox0BDLDuOHj"
      },
      "source": [
        "So far, we've been creating variables within functions, but we have not discussed variables outside the function. These are called global variables. <br>\n",
        "Let's try to see what <code>printer1</code> returns:\n"
      ]
    },
    {
      "cell_type": "code",
      "execution_count": 34,
      "metadata": {
        "trusted": true,
        "colab": {
          "base_uri": "https://localhost:8080/"
        },
        "id": "52cxhCT-uOHj",
        "outputId": "2101da67-283a-40e0-befe-44e148560d89"
      },
      "outputs": [
        {
          "output_type": "stream",
          "name": "stdout",
          "text": [
            "Michael Jackson is an artist\n"
          ]
        }
      ],
      "source": [
        "# Example of global variable\n",
        "\n",
        "artist = \"Michael Jackson\"\n",
        "def printer1(artist):\n",
        "    internal_var1 = artist\n",
        "    print(artist, \"is an artist\")\n",
        "\n",
        "printer1(artist)\n",
        "# try runningthe following code\n",
        "#printer1(internal_var1)"
      ]
    },
    {
      "cell_type": "markdown",
      "metadata": {
        "id": "ilX6TMSruOHj"
      },
      "source": [
        "<b>We got a Name Error:  <code>name 'internal_var' is not defined</code>. Why?</b>\n",
        "\n",
        "It's because all the variables we create in the function is a <b>local variable</b>, meaning that the variable assignment does not persist outside the function.\n",
        "\n",
        "But there is a way to create <b>global variables</b> from within a function as follows:\n"
      ]
    },
    {
      "cell_type": "code",
      "execution_count": 35,
      "metadata": {
        "trusted": true,
        "colab": {
          "base_uri": "https://localhost:8080/"
        },
        "id": "wc0BKT2nuOHk",
        "outputId": "b3990359-8c61-4149-ea6c-024a63978fb0"
      },
      "outputs": [
        {
          "output_type": "stream",
          "name": "stdout",
          "text": [
            "Michael Jackson is an artist\n",
            "Whitney Houston is an artist\n"
          ]
        }
      ],
      "source": [
        "artist = \"Michael Jackson\"\n",
        "\n",
        "def printer(artist):\n",
        "    global internal_var\n",
        "    internal_var= \"Whitney Houston\"\n",
        "    print(artist,\"is an artist\")\n",
        "\n",
        "printer(artist)\n",
        "printer(internal_var)"
      ]
    },
    {
      "cell_type": "markdown",
      "metadata": {
        "id": "unsYNcYZuOHk"
      },
      "source": [
        "<h2 id=\"scope\">Scope of a Variable</h2>\n"
      ]
    },
    {
      "cell_type": "markdown",
      "metadata": {
        "id": "Bfmni6_7uOHk"
      },
      "source": [
        "The scope of a variable is the part of that program where that variable is accessible. Variables that are declared outside of all function definitions, such as the <code>myFavouriteBand</code> variable in the code shown here, are accessible from anywhere within the program. As a result, such variables are said to have global scope, and are known as global variables. <code>myFavouriteBand</code> is a global variable, so it is accessible from within the <code>getBandRating</code> function, and we can use it to determine a band's rating. We can also use it outside of the function, such as when we pass it to the print function to display it:\n"
      ]
    },
    {
      "cell_type": "code",
      "execution_count": 41,
      "metadata": {
        "trusted": true,
        "colab": {
          "base_uri": "https://localhost:8080/"
        },
        "id": "oo4RheB_uOHk",
        "outputId": "980b6c21-2733-4be1-d9b2-a158d53b196b"
      },
      "outputs": [
        {
          "output_type": "stream",
          "name": "stdout",
          "text": [
            "AC/DC's rating is: 10.0\n",
            "Deep Purple's rating is: 0.0\n",
            "My favourite band is: AC/DC\n"
          ]
        }
      ],
      "source": [
        "# Example of global variable\n",
        "\n",
        "myFavouriteBand = \"AC/DC\"\n",
        "\n",
        "def getBandRating(bandname):\n",
        "    if bandname == myFavouriteBand:\n",
        "        return 10.0\n",
        "    else:\n",
        "        return 0.0\n",
        "\n",
        "print(\"AC/DC's rating is:\", getBandRating(\"AC/DC\"))\n",
        "print(\"Deep Purple's rating is:\",getBandRating(\"Deep Purple\"))\n",
        "print(\"My favourite band is:\", myFavouriteBand)"
      ]
    },
    {
      "cell_type": "markdown",
      "metadata": {
        "id": "WRb2i_3suOHk"
      },
      "source": [
        "Take a look at this modified version of our code. Now the <code>myFavouriteBand</code> variable is defined within the <code>getBandRating</code> function. A variable that is defined within a function is said to be a local variable of that function. That means that it is only accessible from within the function in which it is defined. Our <code>getBandRating</code> function will still work, because <code>myFavouriteBand</code> is still defined within the function. However, we can no longer print <code>myFavouriteBand</code> outside our function, because it is a local variable of our <code>getBandRating</code> function; it is only defined within the <code>getBandRating</code> function:\n"
      ]
    },
    {
      "cell_type": "code",
      "execution_count": 42,
      "metadata": {
        "trusted": true,
        "colab": {
          "base_uri": "https://localhost:8080/"
        },
        "id": "EOMHA7_3uOHk",
        "outputId": "e1508edf-9078-4833-8c71-105348ec24b7"
      },
      "outputs": [
        {
          "output_type": "stream",
          "name": "stdout",
          "text": [
            "AC/DC's rating is:  10.0\n",
            "Deep Purple's rating is:  0.0\n"
          ]
        }
      ],
      "source": [
        "# Deleting the variable \"myFavouriteBand\" from the previous example to demonstrate an example of a local variable\n",
        "\n",
        "del myFavouriteBand\n",
        "\n",
        "# Example of local variable\n",
        "\n",
        "def getBandRating(bandname):\n",
        "    myFavouriteBand = \"AC/DC\"\n",
        "    if bandname == myFavouriteBand:\n",
        "        return 10.0\n",
        "    else:\n",
        "        return 0.0\n",
        "\n",
        "print(\"AC/DC's rating is: \", getBandRating(\"AC/DC\"))\n",
        "print(\"Deep Purple's rating is: \", getBandRating(\"Deep Purple\"))\n",
        "#print(\"My favourite band is\", myFavouriteBand)"
      ]
    },
    {
      "cell_type": "markdown",
      "metadata": {
        "id": "dKPhVgvPuOHk"
      },
      "source": [
        "Finally, take a look at this example. We now have two <code>myFavouriteBand</code> variable definitions. The first one of these has a global scope, and the second of them is a local variable within the <code>getBandRating</code> function. Within the <code>getBandRating</code> function, the local variable takes precedence. **Deep Purple** will receive a rating of 10.0 when passed to the <code>getBandRating</code> function. However, outside of the <code>getBandRating</code> function, the <code>getBandRating</code> s local variable is not defined, so the <code>myFavouriteBand</code> variable we print is the global variable, which has a value of **AC/DC**:\n"
      ]
    },
    {
      "cell_type": "code",
      "execution_count": 43,
      "metadata": {
        "trusted": true,
        "colab": {
          "base_uri": "https://localhost:8080/"
        },
        "id": "g2fNp-fwuOHk",
        "outputId": "28cc7f80-4b69-427b-da2a-2cafc3de76cc"
      },
      "outputs": [
        {
          "output_type": "stream",
          "name": "stdout",
          "text": [
            "AC/DC's rating is: 0.0\n",
            "Deep Purple's rating is:  10.0\n",
            "My favourite band is: AC/DC\n"
          ]
        }
      ],
      "source": [
        "# Example of global variable and local variable with the same name\n",
        "\n",
        "myFavouriteBand = \"AC/DC\"\n",
        "\n",
        "def getBandRating(bandname):\n",
        "    myFavouriteBand = \"Deep Purple\"\n",
        "    if bandname == myFavouriteBand:\n",
        "        return 10.0\n",
        "    else:\n",
        "        return 0.0\n",
        "\n",
        "print(\"AC/DC's rating is:\",getBandRating(\"AC/DC\"))\n",
        "print(\"Deep Purple's rating is: \",getBandRating(\"Deep Purple\"))\n",
        "print(\"My favourite band is:\",myFavouriteBand)"
      ]
    },
    {
      "cell_type": "markdown",
      "metadata": {
        "id": "aRqBN2A6uOHl"
      },
      "source": [
        "<hr>\n",
        "<h2 id =\"collec\"> Collections and Functions</h2>\n"
      ]
    },
    {
      "cell_type": "markdown",
      "metadata": {
        "id": "voZbG-_duOHl"
      },
      "source": [
        "When the number of arguments  are unknown for a function, They can all be packed into a tuple as shown:\n"
      ]
    },
    {
      "cell_type": "code",
      "execution_count": 44,
      "metadata": {
        "trusted": true,
        "colab": {
          "base_uri": "https://localhost:8080/"
        },
        "id": "KV5qj4PKuOHl",
        "outputId": "bae15675-3318-4524-e8f5-6cbf87650b9d"
      },
      "outputs": [
        {
          "output_type": "stream",
          "name": "stdout",
          "text": [
            "No of arguments: 3\n",
            "Horsefeather\n",
            "Adonis\n",
            "Bone\n",
            "No of arguments: 4\n",
            "Sidecar\n",
            "Long Island\n",
            "Mudslide\n",
            "Carriage\n"
          ]
        }
      ],
      "source": [
        "def printAll(*args): # All the arguments are 'packed' into args which can be treated like a tuple\n",
        "    print(\"No of arguments:\", len(args))\n",
        "    for argument in args:\n",
        "        print(argument)\n",
        "#printAll with 3 arguments\n",
        "printAll('Horsefeather','Adonis','Bone')\n",
        "#printAll with 4 arguments\n",
        "printAll('Sidecar','Long Island','Mudslide','Carriage')"
      ]
    },
    {
      "cell_type": "markdown",
      "metadata": {
        "id": "Q4AEKoBIuOHl"
      },
      "source": [
        "Similarly, The arguments can also be packed into a dictionary as shown:\n"
      ]
    },
    {
      "cell_type": "code",
      "execution_count": 45,
      "metadata": {
        "trusted": true,
        "colab": {
          "base_uri": "https://localhost:8080/"
        },
        "id": "-GUkjXKkuOHl",
        "outputId": "cf13a311-6313-45ce-da05-534d93ffdcad"
      },
      "outputs": [
        {
          "output_type": "stream",
          "name": "stdout",
          "text": [
            "Country : Canada\n",
            "Province : Ontario\n",
            "City : Toronto\n"
          ]
        }
      ],
      "source": [
        "def printDictionary(**args):\n",
        "    for key in args:\n",
        "        print(key + \" : \" + args[key])\n",
        "\n",
        "printDictionary(Country='Canada',Province='Ontario',City='Toronto')\n",
        ""
      ]
    },
    {
      "cell_type": "markdown",
      "metadata": {
        "id": "M5YHmmBAuOHl"
      },
      "source": [
        "Functions can be incredibly powerful and versatile. They can accept (and return) data types, objects and even other functions as arguements. Consider the example below:\n"
      ]
    },
    {
      "cell_type": "code",
      "execution_count": 46,
      "metadata": {
        "trusted": true,
        "colab": {
          "base_uri": "https://localhost:8080/"
        },
        "id": "gt8oBtF4uOHl",
        "outputId": "005d7ccd-0ba0-413d-e413-8ea7e489fbb1"
      },
      "outputs": [
        {
          "output_type": "execute_result",
          "data": {
            "text/plain": [
              "['One', 'Two', 'Three', 'Four']"
            ]
          },
          "metadata": {},
          "execution_count": 46
        }
      ],
      "source": [
        "def addItems(list):\n",
        "    list.append(\"Three\")\n",
        "    list.append(\"Four\")\n",
        "\n",
        "myList = [\"One\",\"Two\"]\n",
        "\n",
        "addItems(myList)\n",
        "\n",
        "myList\n",
        ""
      ]
    },
    {
      "cell_type": "markdown",
      "metadata": {
        "id": "iZbHAkneuOHl"
      },
      "source": [
        "Note how the changes made to the list are not limited to the functions scope. This occurs as it is the lists **reference** that is passed to the function - Any changes made are on the orignal instance of the list. Therefore, one should be cautious when passing mutable objects into functions.\n",
        "\n",
        "<hr>\n"
      ]
    },
    {
      "cell_type": "markdown",
      "metadata": {
        "id": "KCUOi6nKuOHm"
      },
      "source": [
        "<h2>Quiz on Functions</h2>\n"
      ]
    },
    {
      "cell_type": "markdown",
      "metadata": {
        "id": "VOO6XJP1uOHm"
      },
      "source": [
        "Come up with a function that divides the first input by the second input:\n"
      ]
    },
    {
      "cell_type": "code",
      "execution_count": 47,
      "metadata": {
        "trusted": true,
        "id": "j_xa6BZjuOHm"
      },
      "outputs": [],
      "source": [
        "# Write your code below and press Shift+Enter to execute\n",
        "def div(a, b):\n",
        "    return(a/b)"
      ]
    },
    {
      "cell_type": "markdown",
      "metadata": {
        "id": "1z3Oo1DEuOHm"
      },
      "source": [
        "<hr>\n"
      ]
    },
    {
      "cell_type": "markdown",
      "metadata": {
        "id": "JLI2EqRDuOHm"
      },
      "source": [
        "Use the function <code>con</code> for the following question.\n"
      ]
    },
    {
      "cell_type": "code",
      "execution_count": 48,
      "metadata": {
        "trusted": true,
        "id": "XvImOsjEuOHm"
      },
      "outputs": [],
      "source": [
        "# Use the con function for the following question\n",
        "\n",
        "def con(a, b):\n",
        "    return(a + b)"
      ]
    },
    {
      "cell_type": "markdown",
      "metadata": {
        "id": "okUmAbnfuOHm"
      },
      "source": [
        "Can the <code>con</code> function we defined before be used to add two integers or strings?\n"
      ]
    },
    {
      "cell_type": "code",
      "execution_count": 49,
      "metadata": {
        "trusted": true,
        "colab": {
          "base_uri": "https://localhost:8080/"
        },
        "id": "eMHPPFIluOHm",
        "outputId": "1a4dc409-59e3-4b58-bf04-9044a44e4ad6"
      },
      "outputs": [
        {
          "output_type": "execute_result",
          "data": {
            "text/plain": [
              "4"
            ]
          },
          "metadata": {},
          "execution_count": 49
        }
      ],
      "source": [
        "# Write your code below and press Shift+Enter to execute\n",
        "con(2, 2)"
      ]
    },
    {
      "cell_type": "markdown",
      "metadata": {
        "id": "V-xTtGipuOHm"
      },
      "source": [
        "<hr>\n"
      ]
    },
    {
      "cell_type": "markdown",
      "metadata": {
        "id": "zDNDe9YFuOHn"
      },
      "source": [
        "Can the <code>con</code> function we defined before be used to concatenate lists or tuples?\n"
      ]
    },
    {
      "cell_type": "code",
      "execution_count": 50,
      "metadata": {
        "trusted": true,
        "colab": {
          "base_uri": "https://localhost:8080/"
        },
        "id": "DZBU9k3SuOHn",
        "outputId": "f98e4e56-e52e-4097-eade-4ef47d5bdd7a"
      },
      "outputs": [
        {
          "output_type": "execute_result",
          "data": {
            "text/plain": [
              "['a', 1, 'b', 1]"
            ]
          },
          "metadata": {},
          "execution_count": 50
        }
      ],
      "source": [
        "# Write your code below and press Shift+Enter to execute\n",
        "con(['a', 1], ['b', 1])"
      ]
    },
    {
      "cell_type": "markdown",
      "metadata": {
        "id": "CzQ3nKe3uOHn"
      },
      "source": [
        "Write a function code to find total count of word `little` in the given string:\n",
        "`\"Mary had a little lamb Little lamb, little lamb Mary had a little lamb.Its fleece was white as snow And everywhere that Mary went Mary went, Mary went Everywhere that Mary went The lamb was sure to go\"**`\n"
      ]
    },
    {
      "cell_type": "code",
      "execution_count": 51,
      "metadata": {
        "trusted": true,
        "colab": {
          "base_uri": "https://localhost:8080/"
        },
        "id": "KCaAENVwuOHn",
        "outputId": "2f4798a7-b508-4c19-bfac-e0010fd2afc7"
      },
      "outputs": [
        {
          "output_type": "stream",
          "name": "stdout",
          "text": [
            "Total Count: {'little': 3}\n"
          ]
        }
      ],
      "source": [
        "# Write your code below and press Shift+Enter to execute\n",
        "def freq(string,passedkey):\n",
        "\n",
        "    #step1: A list variable is declared and initialized to an empty list.\n",
        "    words = []\n",
        "\n",
        "    #step2: Break the string into list of words\n",
        "    words = string.split() # or string.lower().split()\n",
        "\n",
        "    #step3: Declare a dictionary\n",
        "    Dict = {}\n",
        "\n",
        "    #step4: Use for loop to iterate words and values to the dictionary\n",
        "    for key in words:\n",
        "        if(key == passedkey):\n",
        "            Dict[key] = words.count(key)\n",
        "    #step5: Print the dictionary\n",
        "    print(\"Total Count:\",Dict)\n",
        "\n",
        "# step6: Call function and pass string in it\n",
        "freq(\"Mary had a little lamb Little lamb, little lamb Mary had a little lamb.Its fleece was white as snow And everywhere that Mary went Mary went, Mary went \\\n",
        "Everywhere that Mary went The lamb was sure to go\",\"little\")"
      ]
    },
    {
      "cell_type": "markdown",
      "metadata": {
        "id": "tn8Lm8ohuOHn"
      },
      "source": [
        "<hr>\n",
        "<h2>The last exercise!</h2>\n",
        "<p>Congratulations, you have completed your first lesson and hands-on lab in Python.\n",
        "<hr>\n"
      ]
    },
    {
      "cell_type": "markdown",
      "metadata": {
        "id": "guT5GMLKuOHn"
      },
      "source": [
        "## Author\n",
        "\n",
        "<a href=\"https://www.linkedin.com/in/joseph-s-50398b136/?utm_medium=Exinfluencer&utm_source=Exinfluencer&utm_content=000026UJ&utm_term=10006555&utm_id=NA-SkillsNetwork-Channel-SkillsNetworkCoursesIBMDeveloperSkillsNetworkPY0101ENSkillsNetwork19487395-2022-01-01\">Joseph Santarcangelo</a>\n",
        "\n",
        "## Other contributors\n",
        "\n",
        "<a href=\"https://www.linkedin.com/in/jiahui-mavis-zhou-a4537814a?utm_medium=Exinfluencer&utm_source=Exinfluencer&utm_content=000026UJ&utm_term=10006555&utm_id=NA-SkillsNetwork-Channel-SkillsNetworkCoursesIBMDeveloperSkillsNetworkPY0101ENSkillsNetwork19487395-2022-01-01\">Mavis Zhou</a>\n",
        "\n",
        "## Change Log\n",
        "\n",
        "| Date (YYYY-MM-DD) | Version | Changed By | Change Description                                                                                                     |\n",
        "| ----------------- | ------- | ---------- | ---------------------------------------------------------------------------------------------------------------------- |\n",
        "|2022-12-30| 0.5| Pratiksha| Updated exercises|\n",
        "| 2022-01-10        | 0.4     | Malika     | Removed the readme for GitShare                                                                                        |\n",
        "| 2021-04-13        | 0.3     | Malika     | Deleted exercise \"Probability Bag\"                                                                                     |\n",
        "| 2020-08-26        | 0.2     | Lavanya    | Moved lab to course repo in GitLab                                                                                     |\n",
        "| 2020 -09 -04      | 0.2     | Arjun      | Under What is a function, added code/text to further demonstrate the functionality of the return statement             |\n",
        "| 2020 -09 -04      | 0.2     | Arjun      | Under Global Variables, modify the code block to try and print ‘internal_var’ - So a nameError message can be observed |\n",
        "| 2020 -09 -04      | 0.2     | Arjun      | Added section Collections and Functions                                                                                |\n",
        "| 2020 -09 -04      | 0.2     | Arjun      | Added exercise “Probability Bag”                                                                                       |\n",
        "\n",
        "<hr/>\n",
        "\n",
        "## <h3 align=\"center\"> © IBM Corporation 2020. All rights reserved. <h3/>\n"
      ]
    }
  ],
  "metadata": {
    "kernelspec": {
      "display_name": "Python",
      "language": "python",
      "name": "conda-env-python-py"
    },
    "language_info": {
      "name": ""
    },
    "colab": {
      "provenance": [],
      "include_colab_link": true
    }
  },
  "nbformat": 4,
  "nbformat_minor": 0
}