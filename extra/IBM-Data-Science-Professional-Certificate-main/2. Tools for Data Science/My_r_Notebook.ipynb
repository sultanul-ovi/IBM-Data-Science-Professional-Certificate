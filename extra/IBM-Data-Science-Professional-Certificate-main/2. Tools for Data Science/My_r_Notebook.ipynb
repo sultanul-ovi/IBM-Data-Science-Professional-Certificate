{
 "cells": [
  {
   "cell_type": "code",
   "execution_count": null,
   "id": "fb58a61a-5826-4271-a8f1-091aaa9f235c",
   "metadata": {},
   "outputs": [],
   "source": [
    "#Problema 1: Encontrar la Multiplicación de 2 números."
   ]
  },
  {
   "cell_type": "code",
   "execution_count": null,
   "id": "2928e894-c79d-47a2-92c1-0c4134264c98",
   "metadata": {},
   "outputs": [
    {
     "data": {
      "text/html": [
       "6"
      ],
      "text/latex": [
       "6"
      ],
      "text/markdown": [
       "6"
      ],
      "text/plain": [
       "[1] 6"
      ]
     },
     "metadata": {},
     "output_type": "display_data"
    }
   ],
   "source": [
    "2 * 3 # Multiplication"
   ]
  },
  {
   "cell_type": "code",
   "execution_count": null,
   "id": "25883868-79ac-40ce-b3a6-7575b57a7ff8",
   "metadata": {},
   "outputs": [],
   "source": []
  },
  {
   "cell_type": "code",
   "execution_count": null,
   "id": "f45f9965-fa2a-4fae-8f2d-7f3ea6da07e7",
   "metadata": {},
   "outputs": [],
   "source": [
    "#Problema 2: Encontrar la Sustracción de 2 números."
   ]
  },
  {
   "cell_type": "code",
   "execution_count": null,
   "id": "7673c996-f49b-4834-b839-69b6eeff43fb",
   "metadata": {},
   "outputs": [
    {
     "data": {
      "text/html": [
       "3"
      ],
      "text/latex": [
       "3"
      ],
      "text/markdown": [
       "3"
      ],
      "text/plain": [
       "[1] 3"
      ]
     },
     "metadata": {},
     "output_type": "display_data"
    }
   ],
   "source": [
    "4 - 1 # Subtraction"
   ]
  },
  {
   "cell_type": "code",
   "execution_count": null,
   "id": "efa3b9a0-237e-429a-8b26-c954d80d754f",
   "metadata": {},
   "outputs": [],
   "source": []
  },
  {
   "cell_type": "code",
   "execution_count": null,
   "id": "7c3cdcff-290e-4135-b5d5-1c783f51320c",
   "metadata": {},
   "outputs": [],
   "source": [
    "#Problema 3: Sumar 2 al número dado."
   ]
  },
  {
   "cell_type": "code",
   "execution_count": null,
   "id": "09a440b2-c6e1-4fae-bb9f-e97805917a8e",
   "metadata": {},
   "outputs": [
    {
     "data": {
      "text/html": [
       "3"
      ],
      "text/latex": [
       "3"
      ],
      "text/markdown": [
       "3"
      ],
      "text/plain": [
       "[1] 3"
      ]
     },
     "metadata": {},
     "output_type": "display_data"
    }
   ],
   "source": [
    "a <- 1 # type: ignore # Assigning 1 to the variable called \"a\"\n",
    "a + 2 # type: ignore # Adding 2"
   ]
  },
  {
   "cell_type": "code",
   "execution_count": null,
   "id": "dad7f8fe-8095-4a7f-a19d-72cf38032310",
   "metadata": {},
   "outputs": [],
   "source": []
  },
  {
   "cell_type": "code",
   "execution_count": null,
   "id": "8e61168d-8850-4f1e-b7a0-ee8bfa08f17c",
   "metadata": {},
   "outputs": [],
   "source": [
    "#Problema 4: Crear un marco de datos"
   ]
  },
  {
   "cell_type": "code",
   "execution_count": null,
   "id": "3709b169-eda7-44f7-8e44-6a208424a0f1",
   "metadata": {},
   "outputs": [
    {
     "name": "stdout",
     "output_type": "stream",
     "text": [
      "  Emp_Name  Job_role\n",
      "1      Jai   Manager\n",
      "2    David Team Lead\n",
      "3  Michael Developer\n"
     ]
    }
   ],
   "source": [
    "df = data.frame(Emp_Name = c(\"Jai\", \"David\", \"Michael\"), # type: ignore\n",
    "Job_role = c(\"Manager\", \"Team Lead\", \"Developer\" ) # type: ignore\n",
    ")\n",
    "print(df)"
   ]
  },
  {
   "cell_type": "code",
   "execution_count": null,
   "id": "42c10b2b-cee1-4747-a68e-e470e93b4d05",
   "metadata": {},
   "outputs": [],
   "source": []
  }
 ],
 "metadata": {
  "kernelspec": {
   "display_name": "RP_Env",
   "language": "python",
   "name": "python3"
  },
  "language_info": {
   "codemirror_mode": "r",
   "file_extension": ".r",
   "mimetype": "text/x-r-source",
   "name": "python",
   "pygments_lexer": "r",
   "version": "3.12.9"
  }
 },
 "nbformat": 4,
 "nbformat_minor": 5
}
