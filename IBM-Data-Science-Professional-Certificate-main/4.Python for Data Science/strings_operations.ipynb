{
 "cells": [
  {
   "cell_type": "markdown",
   "id": "eafcf749-15ae-47a8-8813-e3764434f801",
   "metadata": {},
   "source": [
    "<center>\n",
    "    <img src=\"https://cf-courses-data.s3.us.cloud-object-storage.appdomain.cloud/IBMDeveloperSkillsNetwork-PY0101EN-SkillsNetwork/IDSNlogo.png\" width=\"300\" alt=\"cognitiveclass.ai logo\">\n",
    "</center>\n",
    "\n",
    "# String Operations\n",
    "\n",
    "Estimated time needed: **30** minutes.\n",
    "\n",
    "## Objectives\n",
    "\n",
    "After completing this lab you will be able to:\n",
    "\n",
    "*   Work with Strings\n",
    "*   Perform operations on String\n",
    "*   Manipulate Strings using indexing and escape sequences\n"
   ]
  },
  {
   "cell_type": "markdown",
   "id": "77e343aa-c9fd-4321-94e2-3ec773901d3a",
   "metadata": {},
   "source": [
    "<h2>Table of Contents</h2>\n",
    "<div class=\"alert alert-block alert-info\" style=\"margin-top: 20px\">\n",
    "    <ul>\n",
    "        <li>\n",
    "            <a href=\"#What-are-Strings?\">What are Strings?</a>\n",
    "        </li>\n",
    "        <li>\n",
    "            <a href=\"#Indexing\">Indexing</a>\n",
    "            <ul>\n",
    "                <li><a href=\"#Negative-Indexing\">Negative Indexing</a></li>\n",
    "                <li><a href=\"#Slicing\">Slicing</a></li>\n",
    "                <li><a href=\"#Stride\">Stride</a></li>\n",
    "                <li><a href=\"#Concatenate-Strings\">Concatenate Strings</a></li>\n",
    "            </ul>\n",
    "        </li>\n",
    "        <li>\n",
    "            <a href=\"#Escape-Sequences\">Escape Sequences</a>\n",
    "        </li>\n",
    "        <li>\n",
    "            <a href=\"#String-Manipulation-Operations\">String Manipulation Operations</a>\n",
    "        </li>\n",
    "        <li>\n",
    "            <a href=\"#Quiz-on-Strings\">Quiz on Strings</a>\n",
    "        </li>\n",
    "    </ul>\n",
    "\n",
    "</div>\n",
    "\n",
    "<hr>\n"
   ]
  },
  {
   "cell_type": "markdown",
   "id": "a3beaa6b-0b0c-4736-aaea-d701a8e91e6b",
   "metadata": {},
   "source": [
    "## What are Strings?\n"
   ]
  },
  {
   "cell_type": "markdown",
   "id": "18839a58-d5ec-48ab-9c78-6399234b67bb",
   "metadata": {},
   "source": [
    "The following example shows a string contained within 2 quotation marks:\n"
   ]
  },
  {
   "cell_type": "code",
   "execution_count": 51,
   "id": "7cdc8a38-7e5f-4f24-9092-94b5bdd377c3",
   "metadata": {},
   "outputs": [
    {
     "data": {
      "text/plain": [
       "'Michael Jackson'"
      ]
     },
     "execution_count": 51,
     "metadata": {},
     "output_type": "execute_result"
    }
   ],
   "source": [
    "# Use quotation marks for defining string\n",
    "\n",
    "\"Michael Jackson\""
   ]
  },
  {
   "cell_type": "markdown",
   "id": "a0608130-e23a-4475-90cd-d2bd06695bf7",
   "metadata": {},
   "source": [
    "We can also use single quotation marks:\n"
   ]
  },
  {
   "cell_type": "code",
   "execution_count": 1,
   "id": "0c8b5a70-bb17-4412-9703-2d2470d57f3e",
   "metadata": {},
   "outputs": [
    {
     "data": {
      "text/plain": [
       "'Michael Jackson'"
      ]
     },
     "execution_count": 1,
     "metadata": {},
     "output_type": "execute_result"
    }
   ],
   "source": [
    "# Use single quotation marks for defining string\n",
    "\n",
    "'Michael Jackson'"
   ]
  },
  {
   "cell_type": "markdown",
   "id": "2c2847e7-ad25-4932-9b0c-3be60947f61c",
   "metadata": {},
   "source": [
    "A string can be a combination of spaces and digits:\n"
   ]
  },
  {
   "cell_type": "code",
   "execution_count": 2,
   "id": "25feafa1-a502-44d3-9599-5e2bc8274b74",
   "metadata": {},
   "outputs": [
    {
     "data": {
      "text/plain": [
       "'1 2 3 4 5 6 '"
      ]
     },
     "execution_count": 2,
     "metadata": {},
     "output_type": "execute_result"
    }
   ],
   "source": [
    "# Digitals and spaces in string\n",
    "\n",
    "'1 2 3 4 5 6 '"
   ]
  },
  {
   "cell_type": "markdown",
   "id": "3a210bf0-06ec-4a8b-8888-1fb5cbd05e50",
   "metadata": {},
   "source": [
    "A string can also be a combination of special characters :\n"
   ]
  },
  {
   "cell_type": "code",
   "execution_count": 3,
   "id": "b77ac2a6-877e-4c2d-b63d-773e7204ada5",
   "metadata": {},
   "outputs": [
    {
     "data": {
      "text/plain": [
       "'@#2_#]&*^%$'"
      ]
     },
     "execution_count": 3,
     "metadata": {},
     "output_type": "execute_result"
    }
   ],
   "source": [
    "# Special characters in string\n",
    "\n",
    "'@#2_#]&*^%$'"
   ]
  },
  {
   "cell_type": "markdown",
   "id": "e7fbcc95-fb5b-4274-92be-5df13795c905",
   "metadata": {},
   "source": [
    "We can print our string using the print statement:\n"
   ]
  },
  {
   "cell_type": "code",
   "execution_count": 4,
   "id": "9f1094d1-14ce-44a2-a743-4197f52392a4",
   "metadata": {},
   "outputs": [
    {
     "name": "stdout",
     "output_type": "stream",
     "text": [
      "hello!\n"
     ]
    }
   ],
   "source": [
    "# Print the string\n",
    "\n",
    "print(\"hello!\")"
   ]
  },
  {
   "cell_type": "markdown",
   "id": "b69dc492-39d1-468b-bede-12b4e7f61a66",
   "metadata": {},
   "source": [
    "We can bind or assign a string to another variable:\n"
   ]
  },
  {
   "cell_type": "code",
   "execution_count": 5,
   "id": "ca354cce-6fc2-4ad5-9ef1-7cac75b096e4",
   "metadata": {},
   "outputs": [
    {
     "data": {
      "text/plain": [
       "'Michael Jackson'"
      ]
     },
     "execution_count": 5,
     "metadata": {},
     "output_type": "execute_result"
    }
   ],
   "source": [
    "# Assign string to variable\n",
    "\n",
    "name = \"Michael Jackson\"\n",
    "name"
   ]
  },
  {
   "cell_type": "markdown",
   "id": "4e837303-46a9-40c1-b305-a8e5617c54d2",
   "metadata": {},
   "source": [
    "<hr>\n"
   ]
  },
  {
   "cell_type": "markdown",
   "id": "c7b6b887-55b2-481e-b9ac-6d157e69369f",
   "metadata": {},
   "source": [
    "## Indexing\n"
   ]
  },
  {
   "cell_type": "markdown",
   "id": "71c4c825-1003-4e10-a8af-87bcceadb250",
   "metadata": {},
   "source": [
    "It is helpful to think of a string as an ordered sequence. Each element in the sequence can be accessed using an index represented by the array of numbers:\n"
   ]
  },
  {
   "cell_type": "markdown",
   "id": "486dc00f-03af-47d1-abb2-8f78eca112d5",
   "metadata": {},
   "source": [
    "<img src=\"https://cf-courses-data.s3.us.cloud-object-storage.appdomain.cloud/IBMDeveloperSkillsNetwork-PY0101EN-SkillsNetwork/labs/Module%201/images/StringsIndex.png\" width=\"600\" align=\"center\">\n"
   ]
  },
  {
   "cell_type": "markdown",
   "id": "fa0f638f-8e5d-4113-90e6-04243d3f42aa",
   "metadata": {},
   "source": [
    "The first index can be accessed as follows:\n"
   ]
  },
  {
   "cell_type": "markdown",
   "id": "08be7b2d-585b-4f95-becb-92a5de95b7bb",
   "metadata": {},
   "source": [
    "<hr/>\n",
    "<div class=\"alert alert-success alertsuccess\" style=\"margin-top: 20px\">\n",
    "[Tip]: Because indexing starts at 0, it means the first index is on the index 0.\n",
    "</div>\n",
    "<hr/>\n"
   ]
  },
  {
   "cell_type": "code",
   "execution_count": 6,
   "id": "7c10836e-f09a-41b4-b03e-59765de04658",
   "metadata": {},
   "outputs": [
    {
     "name": "stdout",
     "output_type": "stream",
     "text": [
      "M\n"
     ]
    }
   ],
   "source": [
    "# Print the first element in the string\n",
    "\n",
    "print(name[0])"
   ]
  },
  {
   "cell_type": "markdown",
   "id": "666c3200-40f3-4116-a507-cca6857b1960",
   "metadata": {},
   "source": [
    "We can access index 6:\n"
   ]
  },
  {
   "cell_type": "code",
   "execution_count": 7,
   "id": "0ba22681-9266-4e95-af76-f9aaea558c0c",
   "metadata": {},
   "outputs": [
    {
     "name": "stdout",
     "output_type": "stream",
     "text": [
      "l\n"
     ]
    }
   ],
   "source": [
    "# Print the element on index 6 in the string\n",
    "\n",
    "print(name[6])"
   ]
  },
  {
   "cell_type": "markdown",
   "id": "90e08cb1-5373-4df1-924c-1eee527e01d0",
   "metadata": {},
   "source": [
    "Moreover, we can access the 13th index:\n"
   ]
  },
  {
   "cell_type": "code",
   "execution_count": 8,
   "id": "950d4cfd-15c6-4ce0-9417-e4c3edf9a581",
   "metadata": {},
   "outputs": [
    {
     "name": "stdout",
     "output_type": "stream",
     "text": [
      "o\n"
     ]
    }
   ],
   "source": [
    "# Print the element on the 13th index in the string\n",
    "\n",
    "print(name[13])"
   ]
  },
  {
   "cell_type": "markdown",
   "id": "9c9a5255-c42f-4ff2-9158-8e0facbab9e0",
   "metadata": {},
   "source": [
    "### Negative Indexing\n"
   ]
  },
  {
   "cell_type": "markdown",
   "id": "64710660-ba0b-481a-94f3-63ef501d75b6",
   "metadata": {},
   "source": [
    "We can also use negative indexing with strings:\n"
   ]
  },
  {
   "cell_type": "markdown",
   "id": "68611e91-3a58-4eec-b8e4-3f41d4885946",
   "metadata": {},
   "source": [
    "<img src=\"https://cf-courses-data.s3.us.cloud-object-storage.appdomain.cloud/IBMDeveloperSkillsNetwork-PY0101EN-SkillsNetwork/labs/Module%201/images/StringsNeg.png\" width=\"600\" align=\"center\">\n"
   ]
  },
  {
   "cell_type": "markdown",
   "id": "2e2408bd-a1f5-49b7-97ae-8660c7c5fd1a",
   "metadata": {},
   "source": [
    "Negative index can help us to count the element from the end of the string.\n"
   ]
  },
  {
   "cell_type": "markdown",
   "id": "86a7fd5d-046f-4f82-8670-0862ad6e3699",
   "metadata": {},
   "source": [
    "The last element is given by the index -1:\n"
   ]
  },
  {
   "cell_type": "code",
   "execution_count": 9,
   "id": "d6208d1a-00f2-4618-a055-60d26b15d610",
   "metadata": {},
   "outputs": [
    {
     "name": "stdout",
     "output_type": "stream",
     "text": [
      "n\n"
     ]
    }
   ],
   "source": [
    "# Print the last element in the string\n",
    "\n",
    "print(name[-1])"
   ]
  },
  {
   "cell_type": "markdown",
   "id": "70167e12-d734-4c16-8df0-2d0f6ee807a1",
   "metadata": {},
   "source": [
    "The first element can be obtained by  index -15:\n"
   ]
  },
  {
   "cell_type": "code",
   "execution_count": 10,
   "id": "ba39fb4b-0e5b-49a8-8db0-0f6fd394e3ed",
   "metadata": {},
   "outputs": [
    {
     "name": "stdout",
     "output_type": "stream",
     "text": [
      "M\n"
     ]
    }
   ],
   "source": [
    "# Print the first element in the string\n",
    "\n",
    "print(name[-15])"
   ]
  },
  {
   "cell_type": "markdown",
   "id": "75d240a3-e0db-49cb-8ab2-402ae53d7794",
   "metadata": {},
   "source": [
    "We can find the number of characters in a string by using <code>len</code>, short for length:\n"
   ]
  },
  {
   "cell_type": "code",
   "execution_count": 11,
   "id": "460eced6-640b-4934-9eda-cf30a1b190ee",
   "metadata": {},
   "outputs": [
    {
     "data": {
      "text/plain": [
       "15"
      ]
     },
     "execution_count": 11,
     "metadata": {},
     "output_type": "execute_result"
    }
   ],
   "source": [
    "# Find the length of string\n",
    "\n",
    "len(\"Michael Jackson\")"
   ]
  },
  {
   "cell_type": "markdown",
   "id": "1af11af7-16a5-430a-87e7-76121fa53dd8",
   "metadata": {},
   "source": [
    "### Slicing\n"
   ]
  },
  {
   "cell_type": "markdown",
   "id": "3a5e146c-cf53-4869-9ef1-5e6b71e34a4a",
   "metadata": {},
   "source": [
    "We can obtain multiple characters from a string using slicing, we can obtain the 0 to 4th and 8th to the 12th element:\n"
   ]
  },
  {
   "cell_type": "markdown",
   "id": "1a5ccc0a-849b-4bb6-ba03-fb1fe8def38a",
   "metadata": {},
   "source": [
    "<img src=\"https://cf-courses-data.s3.us.cloud-object-storage.appdomain.cloud/IBMDeveloperSkillsNetwork-PY0101EN-SkillsNetwork/labs/Module%201/images/StringsSlice.png\" width=\"600\" align=\"center\">\n"
   ]
  },
  {
   "cell_type": "markdown",
   "id": "346c8474-2b5a-4ae4-ae33-0e2ebc20bcde",
   "metadata": {},
   "source": [
    "<hr/>\n",
    "<div class=\"alert alert-success alertsuccess\" style=\"margin-top: 20px\">\n",
    "[Tip]: When taking the slice, the first number means the index (start at 0), and the second number means the length from the index to the last element you want (start at 1)\n",
    "</div>\n",
    "<hr/>\n"
   ]
  },
  {
   "cell_type": "code",
   "execution_count": 12,
   "id": "1093f083-95e1-4992-939a-bd141f45a9cf",
   "metadata": {},
   "outputs": [
    {
     "data": {
      "text/plain": [
       "'Mich'"
      ]
     },
     "execution_count": 12,
     "metadata": {},
     "output_type": "execute_result"
    }
   ],
   "source": [
    "# Take the slice on variable name with only index 0 to index 3\n",
    "\n",
    "name[0:4]"
   ]
  },
  {
   "cell_type": "code",
   "execution_count": 13,
   "id": "79bf86d8-7570-454b-a622-92a956da9f1e",
   "metadata": {},
   "outputs": [
    {
     "data": {
      "text/plain": [
       "'Jack'"
      ]
     },
     "execution_count": 13,
     "metadata": {},
     "output_type": "execute_result"
    }
   ],
   "source": [
    "# Take the slice on variable name with only index 8 to index 11\n",
    "\n",
    "name[8:12]"
   ]
  },
  {
   "cell_type": "markdown",
   "id": "3b632cb0-abed-435c-a2db-c0a24a75c0e9",
   "metadata": {},
   "source": [
    "### Stride\n"
   ]
  },
  {
   "cell_type": "markdown",
   "id": "465b8bab-4617-472c-bb70-b6a49e740f3c",
   "metadata": {},
   "source": [
    "We can also input a stride value as follows, with the '2' indicating that we are selecting every second variable:\n"
   ]
  },
  {
   "cell_type": "markdown",
   "id": "e613f2ab-5b45-4c97-8528-8148ee442e91",
   "metadata": {},
   "source": [
    "<img src=\"https://cf-courses-data.s3.us.cloud-object-storage.appdomain.cloud/IBMDeveloperSkillsNetwork-PY0101EN-SkillsNetwork/labs/Module%201/images/StringsStride.png\" width=\"600\" align=\"center\">\n"
   ]
  },
  {
   "cell_type": "code",
   "execution_count": 14,
   "id": "4f3665dd-85c1-4042-8b0e-0f46e76836a8",
   "metadata": {},
   "outputs": [
    {
     "data": {
      "text/plain": [
       "'McalJcsn'"
      ]
     },
     "execution_count": 14,
     "metadata": {},
     "output_type": "execute_result"
    }
   ],
   "source": [
    "# Get every second element. The elments on index 1, 3, 5 ...\n",
    "\n",
    "name[::2]"
   ]
  },
  {
   "cell_type": "markdown",
   "id": "924014fd-02a3-410f-9fa5-2f127b1754cc",
   "metadata": {},
   "source": [
    "We can also incorporate slicing  with the stride. In this case, we select the first five elements and then use the stride:\n"
   ]
  },
  {
   "cell_type": "code",
   "execution_count": 15,
   "id": "81eaf697-6b38-40d2-8b13-2bd41d69aaaf",
   "metadata": {},
   "outputs": [
    {
     "data": {
      "text/plain": [
       "'Mca'"
      ]
     },
     "execution_count": 15,
     "metadata": {},
     "output_type": "execute_result"
    }
   ],
   "source": [
    "# Get every second element in the range from index 0 to index 4\n",
    "\n",
    "name[0:5:2]"
   ]
  },
  {
   "cell_type": "markdown",
   "id": "081ea5f7-f518-4968-9ef5-b7589f9da434",
   "metadata": {},
   "source": [
    "### Concatenate Strings\n"
   ]
  },
  {
   "cell_type": "markdown",
   "id": "f7a1b99b-5259-4e5e-9378-56bc1d995bbc",
   "metadata": {},
   "source": [
    "We can concatenate or combine strings by using the addition symbols, and the result is a new string that is a combination of both:\n"
   ]
  },
  {
   "cell_type": "code",
   "execution_count": 16,
   "id": "8e7c3d0b-22a9-4315-a003-4a2ef5ad0d0e",
   "metadata": {},
   "outputs": [
    {
     "data": {
      "text/plain": [
       "'Michael Jackson is the best'"
      ]
     },
     "execution_count": 16,
     "metadata": {},
     "output_type": "execute_result"
    }
   ],
   "source": [
    "# Concatenate two strings\n",
    "\n",
    "statement = name + \" is the best\"\n",
    "statement"
   ]
  },
  {
   "cell_type": "markdown",
   "id": "ddf156c2-d6a8-4633-a9b5-9b095e9493f7",
   "metadata": {},
   "source": [
    "To replicate values of a string we simply multiply the string by the number of times we would like to replicate it. In this case, the number is three. The result is a new string, and this new string consists of three copies of the original string:\n"
   ]
  },
  {
   "cell_type": "code",
   "execution_count": 17,
   "id": "881062a9-56bb-4a8e-a155-1ae908de14ed",
   "metadata": {},
   "outputs": [
    {
     "data": {
      "text/plain": [
       "'Michael JacksonMichael JacksonMichael Jackson'"
      ]
     },
     "execution_count": 17,
     "metadata": {},
     "output_type": "execute_result"
    }
   ],
   "source": [
    "# Print the string for 3 times\n",
    "\n",
    "3 * \"Michael Jackson\""
   ]
  },
  {
   "cell_type": "markdown",
   "id": "c0aa5989-b5d8-48b4-bd96-02a4ea8bb7a4",
   "metadata": {},
   "source": [
    "You can create a new string by setting it to the original variable. Concatenated  with a new string, the result is a new string that changes from Michael Jackson to “Michael Jackson is the best\".\n"
   ]
  },
  {
   "cell_type": "code",
   "execution_count": 18,
   "id": "dcf95a43-3e8d-4df4-bbf8-565f75ea3ad9",
   "metadata": {},
   "outputs": [
    {
     "data": {
      "text/plain": [
       "'Michael Jackson is the best'"
      ]
     },
     "execution_count": 18,
     "metadata": {},
     "output_type": "execute_result"
    }
   ],
   "source": [
    "# Concatenate strings\n",
    "\n",
    "name = \"Michael Jackson\"\n",
    "name = name + \" is the best\"\n",
    "name"
   ]
  },
  {
   "cell_type": "markdown",
   "id": "5fe9a6f9-4fef-4ab3-a970-be5762e3f625",
   "metadata": {},
   "source": [
    "<hr>\n"
   ]
  },
  {
   "cell_type": "markdown",
   "id": "ef57db31-69fb-4a9a-a1ff-d8cfc6439b20",
   "metadata": {},
   "source": [
    "## Escape Sequences\n"
   ]
  },
  {
   "cell_type": "markdown",
   "id": "36c3ea6c-dcc0-4374-81fb-dce4456c7306",
   "metadata": {},
   "source": [
    "Back slashes represent the beginning  of escape sequences. Escape sequences represent strings that may be difficult to input. For example, back slash \"n\" represents a new line. The output is given by a new line after the back slash \"n\" is encountered:\n"
   ]
  },
  {
   "cell_type": "code",
   "execution_count": 19,
   "id": "907db770-6613-4b1d-b3cf-e3bb5d9dd335",
   "metadata": {},
   "outputs": [
    {
     "name": "stdout",
     "output_type": "stream",
     "text": [
      " Michael Jackson \n",
      " is the best\n"
     ]
    }
   ],
   "source": [
    "# New line escape sequence\n",
    "\n",
    "print(\" Michael Jackson \\n is the best\" )"
   ]
  },
  {
   "cell_type": "markdown",
   "id": "d1c72ab5-1881-416d-b74f-f08ff2b6ba6d",
   "metadata": {},
   "source": [
    "Similarly, back slash  \"t\" represents a tab:\n"
   ]
  },
  {
   "cell_type": "code",
   "execution_count": 20,
   "id": "2f363553-e5f3-474b-9f75-4d95ee3f5cec",
   "metadata": {},
   "outputs": [
    {
     "name": "stdout",
     "output_type": "stream",
     "text": [
      " Michael Jackson \t is the best\n"
     ]
    }
   ],
   "source": [
    "# Tab escape sequence\n",
    "\n",
    "print(\" Michael Jackson \\t is the best\" )"
   ]
  },
  {
   "cell_type": "markdown",
   "id": "756d0f33-a636-4c5a-a6df-ca7c0fab41e4",
   "metadata": {},
   "source": [
    "If you want to place a back slash in your string, use a double back slash:\n"
   ]
  },
  {
   "cell_type": "code",
   "execution_count": 21,
   "id": "3d97bd92-3e63-47d3-8299-1e378d19ac97",
   "metadata": {},
   "outputs": [
    {
     "name": "stdout",
     "output_type": "stream",
     "text": [
      " Michael Jackson \\ is the best\n"
     ]
    }
   ],
   "source": [
    "# Include back slash in string\n",
    "\n",
    "print(\" Michael Jackson \\\\ is the best\" )"
   ]
  },
  {
   "cell_type": "markdown",
   "id": "0f2996f0-36ed-4911-97dd-1430420c2ba7",
   "metadata": {},
   "source": [
    "We can also place an \"r\" before the string to display the backslash:\n"
   ]
  },
  {
   "cell_type": "code",
   "execution_count": 22,
   "id": "3119ae25-1ad6-4192-bc4a-c1f2f9db074e",
   "metadata": {},
   "outputs": [
    {
     "name": "stdout",
     "output_type": "stream",
     "text": [
      " Michael Jackson \\ is the best\n"
     ]
    }
   ],
   "source": [
    "# r will tell python that string will be display as raw string\n",
    "\n",
    "print(r\" Michael Jackson \\ is the best\" )"
   ]
  },
  {
   "cell_type": "markdown",
   "id": "b3039784-dae9-4cfb-b520-0f38abe9d8d9",
   "metadata": {},
   "source": [
    "<hr>\n"
   ]
  },
  {
   "cell_type": "markdown",
   "id": "9f4c9668-db34-47cc-8bdf-510e63c798f4",
   "metadata": {},
   "source": [
    "## String Manipulation Operations\n"
   ]
  },
  {
   "cell_type": "markdown",
   "id": "edec5bb5-c90e-4f95-b817-32a1ae5daf6a",
   "metadata": {},
   "source": [
    "There are many string operation methods in Python that can be used to manipulate the data. We are going to use some basic string operations on the data.\n"
   ]
  },
  {
   "cell_type": "markdown",
   "id": "d9bca499-97ce-4389-a763-3dc73cbb1ecb",
   "metadata": {},
   "source": [
    "Let's try with the method <code>upper</code>; this method converts lower case characters to upper case characters:\n"
   ]
  },
  {
   "cell_type": "code",
   "execution_count": 23,
   "id": "8d3c4ce6-92ca-4759-b4e9-b7abc8261bad",
   "metadata": {},
   "outputs": [
    {
     "name": "stdout",
     "output_type": "stream",
     "text": [
      "before upper: Thriller is the sixth studio album\n",
      "After upper: THRILLER IS THE SIXTH STUDIO ALBUM\n"
     ]
    }
   ],
   "source": [
    "# Convert all the characters in string to upper case\n",
    "\n",
    "a = \"Thriller is the sixth studio album\"\n",
    "print(\"before upper:\", a)\n",
    "b = a.upper()\n",
    "print(\"After upper:\", b)"
   ]
  },
  {
   "cell_type": "markdown",
   "id": "701774fb-e060-4e19-8338-d95f026c67ef",
   "metadata": {},
   "source": [
    "The method <code>replace</code> replaces a segment of the string, i.e. a substring  with a new string. We input the part of the string we would like to change. The second argument is what we would like to exchange the segment with, and the result is a new string with the segment changed:\n"
   ]
  },
  {
   "cell_type": "code",
   "execution_count": 24,
   "id": "917de48b-b468-485d-8731-dba4c58f8e73",
   "metadata": {},
   "outputs": [
    {
     "data": {
      "text/plain": [
       "'Janet Jackson is the best'"
      ]
     },
     "execution_count": 24,
     "metadata": {},
     "output_type": "execute_result"
    }
   ],
   "source": [
    "# Replace the old substring with the new target substring is the segment has been found in the string\n",
    "\n",
    "a = \"Michael Jackson is the best\"\n",
    "b = a.replace('Michael', 'Janet')\n",
    "b"
   ]
  },
  {
   "cell_type": "markdown",
   "id": "1384ee98-3a05-47df-a8f6-db90ba8c33c8",
   "metadata": {},
   "source": [
    "The method <code>find</code> finds a sub-string. The argument is the substring you would like to find, and the output is the first index of the sequence. We can find the sub-string <code>jack</code> or <code>el<code>.\n"
   ]
  },
  {
   "cell_type": "markdown",
   "id": "57cc1b14-4709-4f2f-b7af-23f5824db2a6",
   "metadata": {},
   "source": [
    "<img src=\"https://cf-courses-data.s3.us.cloud-object-storage.appdomain.cloud/IBMDeveloperSkillsNetwork-PY0101EN-SkillsNetwork/labs/Module%201/images/StringsFind.png\" width=\"600\" align=\"center\">\n"
   ]
  },
  {
   "cell_type": "code",
   "execution_count": 25,
   "id": "5ffd88a3-6b32-48f0-9829-6158a2a2d57a",
   "metadata": {},
   "outputs": [
    {
     "data": {
      "text/plain": [
       "5"
      ]
     },
     "execution_count": 25,
     "metadata": {},
     "output_type": "execute_result"
    }
   ],
   "source": [
    "# Find the substring in the string. Only the index of the first elment of substring in string will be the output\n",
    "\n",
    "name = \"Michael Jackson\"\n",
    "name.find('el')"
   ]
  },
  {
   "cell_type": "code",
   "execution_count": 26,
   "id": "8a1cfeb2-b30b-4205-bae3-a5bbcb533d51",
   "metadata": {},
   "outputs": [
    {
     "data": {
      "text/plain": [
       "8"
      ]
     },
     "execution_count": 26,
     "metadata": {},
     "output_type": "execute_result"
    }
   ],
   "source": [
    "# Find the substring in the string.\n",
    "\n",
    "name.find('Jack')"
   ]
  },
  {
   "cell_type": "markdown",
   "id": "21b2dbff-55c5-4602-b06e-617f146d7741",
   "metadata": {},
   "source": [
    "If the  sub-string is not in the string then the output is a negative one. For example, the string 'Jasdfasdasdf' is not a substring:\n"
   ]
  },
  {
   "cell_type": "code",
   "execution_count": 27,
   "id": "6c26615e-add2-472e-8cd8-1ddfb3a594b0",
   "metadata": {},
   "outputs": [
    {
     "data": {
      "text/plain": [
       "-1"
      ]
     },
     "execution_count": 27,
     "metadata": {},
     "output_type": "execute_result"
    }
   ],
   "source": [
    "# If cannot find the substring in the string\n",
    "\n",
    "name.find('Jasdfasdasdf')"
   ]
  },
  {
   "cell_type": "markdown",
   "id": "72fca690-008c-40a9-bec1-1f36fbfcf513",
   "metadata": {},
   "source": [
    "The method <code>Split</code> splits the string at the specified separator, and returns a list.\n",
    "\n",
    "**Syntax**\n",
    "\n",
    "<code>string.split(separator, maxsplit)</code>\n",
    "\n",
    "**Parameters**\n",
    "- separator (optional): This is the delimiter at which the string will be split. If not provided, the default separator is any whitespace.\n",
    "- maxsplit (optional): This specifies the maximum number of splits to perform. If not provided, there is no limit on the number of splits.\n",
    "\n",
    "**Return Value**:\n",
    "\n",
    "The method returns a list of substrings.\n"
   ]
  },
  {
   "cell_type": "code",
   "execution_count": 28,
   "id": "446c801e-6f3d-4ef2-af4f-b80959f9d56c",
   "metadata": {},
   "outputs": [
    {
     "data": {
      "text/plain": [
       "['Michael', 'Jackson']"
      ]
     },
     "execution_count": 28,
     "metadata": {},
     "output_type": "execute_result"
    }
   ],
   "source": [
    "#Split the substring into list\n",
    "name = \"Michael Jackson\"\n",
    "split_string = (name.split())\n",
    "split_string"
   ]
  },
  {
   "cell_type": "markdown",
   "id": "d6d7afe5-63b9-43f0-b481-6fc7ec141960",
   "metadata": {},
   "source": [
    "<hr>\n"
   ]
  },
  {
   "cell_type": "markdown",
   "id": "2eb9561b-379e-458d-acb5-618a767ce13a",
   "metadata": {},
   "source": [
    "## RegEx\n"
   ]
  },
  {
   "cell_type": "markdown",
   "id": "20155e5b-e214-4014-b59d-3382529bb5f7",
   "metadata": {},
   "source": [
    "In Python, RegEx (short for Regular Expression) is a tool for matching and handling strings. \n"
   ]
  },
  {
   "cell_type": "markdown",
   "id": "b6d243d3-4ae5-4382-a665-51cac8a4e4cf",
   "metadata": {},
   "source": [
    "This RegEx module provides several functions for working with regular expressions, including <code>search, split, findall,</code> and <code>sub</code>. \n"
   ]
  },
  {
   "cell_type": "markdown",
   "id": "0bfc1f6e-af95-42c3-a387-ada5bea9e4f0",
   "metadata": {},
   "source": [
    "Python provides a built-in module called <code>re</code>, which allows you to work with regular expressions. \n",
    "First, import the <code>re</code> module\n"
   ]
  },
  {
   "cell_type": "code",
   "execution_count": 29,
   "id": "7ae012f8-f57d-412c-9d04-b4173a90d969",
   "metadata": {},
   "outputs": [],
   "source": [
    "import re"
   ]
  },
  {
   "cell_type": "markdown",
   "id": "87b1f288-5ab5-4805-a67a-cdd6fcf2947e",
   "metadata": {},
   "source": [
    "The search() function searches for specified patterns within a string. Here is an example that explains how to use the search() function to search for the word \"Jackson\" in the string \"Michael Jackson is the best\".\n"
   ]
  },
  {
   "cell_type": "code",
   "execution_count": 30,
   "id": "5439eb19-1430-4622-820f-8d716a4881e5",
   "metadata": {},
   "outputs": [
    {
     "name": "stdout",
     "output_type": "stream",
     "text": [
      "Match found!\n"
     ]
    }
   ],
   "source": [
    "s1 = \"Michael Jackson is the best\"\n",
    "\n",
    "# Define the pattern to search for\n",
    "pattern = r\"Jackson\"\n",
    "\n",
    "# Use the search() function to search for the pattern in the string\n",
    "result = re.search(pattern, s1)\n",
    "\n",
    "# Check if a match was found\n",
    "if result:\n",
    "    print(\"Match found!\")\n",
    "else:\n",
    "    print(\"Match not found.\")\n"
   ]
  },
  {
   "cell_type": "markdown",
   "id": "ccbd4691-8f41-47fa-99e2-19028406789c",
   "metadata": {},
   "source": [
    "Regular expressions (RegEx) are patterns used to match and manipulate strings of text. There are several special sequences in RegEx that can be used to match specific characters or patterns.\n",
    "\n",
    "| Special Sequence | Meaning                 | \tExample             |\n",
    "| -----------  | ----------------------- | ----------------------|\n",
    "| \\d|Matches any digit character (0-9)|\"123\" matches \"\\d\\d\\d\"|\n",
    "|\\D|Matches any non-digit character|\"hello\" matches \"\\D\\D\\D\\D\\D\"|\n",
    "|\\w|Matches any word character (a-z, A-Z, 0-9, and _)|\"hello_world\" matches \"\\w\\w\\w\\w\\w\\w\\w\\w\\w\\w\\w\"|\n",
    "|\\W|Matches any non-word character|\t\"@#$%\" matches \"\\W\\W\\W\\W\"|\n",
    "|\\s|Matches any whitespace character (space, tab, newline, etc.)|\"hello world\" matches \"\\w\\w\\w\\w\\w\\s\\w\\w\\w\\w\\w\"|\n",
    "|\\S|Matches any non-whitespace character|\"hello_world\" matches \"\\S\\S\\S\\S\\S\\S\\S\\S\\S\"|\n",
    "|\\b|Matches the boundary between a word character and a non-word character|\"cat\" matches \"\\bcat\\b\" in \"The cat sat on the mat\"|\n",
    "|\\B|Matches any position that is not a word boundary|\"cat\" matches \"\\Bcat\\B\" in \"category\" but not in \"The cat sat on the mat\"|\n"
   ]
  },
  {
   "cell_type": "markdown",
   "id": "a7d6ed00-9792-4d6a-8737-d378e2f18f91",
   "metadata": {},
   "source": [
    "Special Sequence Examples:\n",
    "\n",
    "A simple example of using the <code>\\d</code> special sequence in a regular expression pattern with Python code:\n"
   ]
  },
  {
   "cell_type": "code",
   "execution_count": 31,
   "id": "8add0cdd-b334-4d93-b273-3fa114568a5c",
   "metadata": {},
   "outputs": [
    {
     "name": "stdout",
     "output_type": "stream",
     "text": [
      "Phone number found: 1234567890\n"
     ]
    }
   ],
   "source": [
    "pattern = r\"\\d\\d\\d\\d\\d\\d\\d\\d\\d\\d\"  # Matches any ten consecutive digits\n",
    "text = \"My Phone number is 1234567890\"\n",
    "match = re.search(pattern, text)\n",
    "\n",
    "if match:\n",
    "    print(\"Phone number found:\", match.group())\n",
    "else:\n",
    "    print(\"No match\")"
   ]
  },
  {
   "cell_type": "markdown",
   "id": "04830712-42e7-421c-9058-ff7ddba58bf1",
   "metadata": {},
   "source": [
    "The match.group() method is used in Python's re module to retrieve the part of the string where the regular expression pattern matched. Here's a detailed explanation:\n",
    "\n",
    "**Purpose**\n",
    "- Extract Matched Text: match.group() returns the exact substring that matched the pattern.\n",
    " \n",
    "**Usage**\n",
    "- When you use functions like re.search() or re.match(), they return a match object if the pattern is found. You can then use match.group() to get the matched text.\n",
    "\n",
    "Here `match.group()` retrieves the substring 1234567890 from the text, which is the part that matched the pattern.\n"
   ]
  },
  {
   "cell_type": "markdown",
   "id": "b4ee1da7-cad9-4ab4-be99-006fcd8741e8",
   "metadata": {},
   "source": [
    "The regular expression pattern is defined as r\"\\d\\d\\d\\d\\d\\d\\d\\d\\d\\d\", which uses the \\d special sequence to match any digit character (0-9), and the \\d sequence is repeated ten times to match ten consecutive digits\n"
   ]
  },
  {
   "cell_type": "markdown",
   "id": "e3a7a88f-1ad6-4506-ae1c-a6b48a473ce9",
   "metadata": {},
   "source": [
    "A simple example of using the <code>\\W</code> special sequence in a regular expression pattern with Python code:\n"
   ]
  },
  {
   "cell_type": "code",
   "execution_count": 32,
   "id": "36df2097-c558-44c8-82cc-4e2055f4498f",
   "metadata": {},
   "outputs": [
    {
     "name": "stdout",
     "output_type": "stream",
     "text": [
      "Matches: [',', ' ', '!']\n"
     ]
    }
   ],
   "source": [
    "pattern = r\"\\W\"  # Matches any non-word character\n",
    "text = \"Hello, world!\"\n",
    "matches = re.findall(pattern, text)\n",
    "\n",
    "print(\"Matches:\", matches)"
   ]
  },
  {
   "cell_type": "markdown",
   "id": "79b66fe0-a7b6-482b-a716-735e53d2cd53",
   "metadata": {},
   "source": [
    "The regular expression pattern is defined as r\"\\W\", which uses the \\W special sequence to match any character that is not a word character (a-z, A-Z, 0-9, or _). The string we're searching for matches in is \"Hello, world!\".\n"
   ]
  },
  {
   "cell_type": "markdown",
   "id": "14cc606d-5fc6-4c43-9bfc-b8bca0f18b16",
   "metadata": {},
   "source": [
    "The <code>findall()</code> function finds all occurrences of a specified pattern within a string.\n"
   ]
  },
  {
   "cell_type": "code",
   "execution_count": 33,
   "id": "ba5cdf64-be46-41ce-879a-3562a52991b3",
   "metadata": {},
   "outputs": [
    {
     "name": "stdout",
     "output_type": "stream",
     "text": [
      "['as', 'as']\n"
     ]
    }
   ],
   "source": [
    "s2 = \"Michael Jackson was a singer and known as the 'King of Pop'\"\n",
    "\n",
    "\n",
    "# Use the findall() function to find all occurrences of the \"as\" in the string\n",
    "result = re.findall(\"as\", s2)\n",
    "\n",
    "# Print out the list of matched words\n",
    "print(result)\n"
   ]
  },
  {
   "cell_type": "markdown",
   "id": "4d3b46fd-ab1c-4e01-9568-34cbeefbbef1",
   "metadata": {},
   "source": [
    "A regular expression's <code>split()</code> function splits a string into an array of substrings based on a specified pattern.\n"
   ]
  },
  {
   "cell_type": "code",
   "execution_count": 34,
   "id": "5a7baec9-c850-4888-942e-132be35a6321",
   "metadata": {},
   "outputs": [
    {
     "name": "stdout",
     "output_type": "stream",
     "text": [
      "['Michael', 'Jackson', 'was', 'a', 'singer', 'and', 'known', 'as', 'the', \"'King\", 'of', \"Pop'\"]\n"
     ]
    }
   ],
   "source": [
    "# Use the split function to split the string by the \"\\s\"\n",
    "split_array = re.split(r\"\\s\", s2)\n",
    "\n",
    "# The split_array contains all the substrings, split by whitespace characters\n",
    "print(split_array)"
   ]
  },
  {
   "cell_type": "markdown",
   "id": "5458c503-1a42-4f59-a933-ee110794b3b7",
   "metadata": {},
   "source": [
    "Here's a detailed explanation: \n",
    "\n",
    "<code>re.split(\"\\s\", s2)</code>:\n",
    "\n",
    "**re.split**: This function splits a string by the occurrences of a pattern.\n",
    "- **r\"\\s\"**: This is a regular expression pattern that matches any whitespace character (spaces, tabs, newlines, etc.).\n",
    "- **s2**: This is the string that you want to split.\n"
   ]
  },
  {
   "cell_type": "markdown",
   "id": "f00a0c34-e2af-413d-b023-fc010b34156e",
   "metadata": {},
   "source": [
    "The <code>sub</code> function of a regular expression in Python is used to replace all occurrences of a pattern in a string with a specified replacement.\n"
   ]
  },
  {
   "cell_type": "code",
   "execution_count": 35,
   "id": "c7ceb476-b352-4671-9411-7cc5e51d0e7a",
   "metadata": {},
   "outputs": [
    {
     "name": "stdout",
     "output_type": "stream",
     "text": [
      "Michael Jackson was a singer and known as the 'legend'\n"
     ]
    }
   ],
   "source": [
    "# Define the regular expression pattern to search for\n",
    "pattern = r\"King of Pop\"\n",
    "\n",
    "# Define the replacement string\n",
    "replacement = \"legend\"\n",
    "\n",
    "# Use the sub function to replace the pattern with the replacement string\n",
    "new_string = re.sub(pattern, replacement, s2, flags=re.IGNORECASE)\n",
    "\n",
    "# The new_string contains the original string with the pattern replaced by the replacement string\n",
    "print(new_string) "
   ]
  },
  {
   "cell_type": "markdown",
   "id": "e19b69b1-29b6-4f2b-a983-b1e8667353ae",
   "metadata": {},
   "source": [
    "<hr>\n"
   ]
  },
  {
   "cell_type": "markdown",
   "id": "6d4fc098-2b75-4fb0-82b4-f4b1cddfed8b",
   "metadata": {},
   "source": [
    "<h2 id=\"quiz\">Quiz on Strings</h2>\n"
   ]
  },
  {
   "cell_type": "markdown",
   "id": "e9a27448-b531-40dc-afce-e293506e2988",
   "metadata": {},
   "source": [
    "What is the value of the variable <code>a</code> after the following code is executed?\n"
   ]
  },
  {
   "cell_type": "code",
   "execution_count": 36,
   "id": "4665f1f9-067c-4391-95e2-b7f588f9b05a",
   "metadata": {},
   "outputs": [],
   "source": [
    "# Write your code below and press Shift+Enter to execute \n",
    "\n",
    "a = \"1\""
   ]
  },
  {
   "cell_type": "markdown",
   "id": "afd874bd-fc22-4890-9597-0f28ea4e5739",
   "metadata": {},
   "source": [
    "What is the value of the variable <code>b</code> after the following code is executed?\n"
   ]
  },
  {
   "cell_type": "code",
   "execution_count": 37,
   "id": "bf3de988-0217-4c64-8b6b-3d8fe0990f76",
   "metadata": {},
   "outputs": [],
   "source": [
    "# Write your code below and press Shift+Enter to execute\n",
    "\n",
    "b = \"2\""
   ]
  },
  {
   "cell_type": "markdown",
   "id": "a76c7281-3003-48e1-8142-81d3ab5b543e",
   "metadata": {},
   "source": [
    "What is the value of the variable <code>c</code> after the following code is executed?\n"
   ]
  },
  {
   "cell_type": "code",
   "execution_count": 38,
   "id": "4654d8d9-14c5-43b9-b5ce-32eb6560c84c",
   "metadata": {},
   "outputs": [],
   "source": [
    "# Write your code below and press Shift+Enter to execute \n",
    "\n",
    "c = a + b"
   ]
  },
  {
   "cell_type": "markdown",
   "id": "6a2c7910-8979-41fc-b743-a5d2a1dec3e9",
   "metadata": {},
   "source": [
    "<hr>\n"
   ]
  },
  {
   "cell_type": "markdown",
   "id": "e2fbe87a-7652-4cc1-b0a7-28ad67f2f6e5",
   "metadata": {},
   "source": [
    "Consider the variable <code>d</code> use slicing to print out the first three elements:\n"
   ]
  },
  {
   "cell_type": "code",
   "execution_count": 39,
   "id": "a5284e5b-be7a-4d6c-8fac-16b41892f3b1",
   "metadata": {},
   "outputs": [],
   "source": [
    "# Write your code below and press Shift+Enter to execute\n",
    "\n",
    "d = \"ABCDEFG\""
   ]
  },
  {
   "cell_type": "markdown",
   "id": "d85c7f5a-355d-4fc7-8424-315e68929477",
   "metadata": {},
   "source": [
    "<hr>\n"
   ]
  },
  {
   "cell_type": "markdown",
   "id": "04010d30-2eb9-434e-80fb-181fb63e1508",
   "metadata": {},
   "source": [
    "Use a stride value of 2 to print out every second character of the string <code>e</code>:\n"
   ]
  },
  {
   "cell_type": "code",
   "execution_count": 40,
   "id": "56225c98-a28d-49c1-9d3d-3b120a80a7d1",
   "metadata": {},
   "outputs": [],
   "source": [
    "# Write your code below and press Shift+Enter to execute\n",
    "\n",
    "e = 'clocrkr1e1c1t'"
   ]
  },
  {
   "cell_type": "markdown",
   "id": "0fc001fd-38f3-422b-a4f1-432d6985d2d6",
   "metadata": {},
   "source": [
    "<hr>\n"
   ]
  },
  {
   "cell_type": "markdown",
   "id": "8dc0c5dc-b329-4d22-93fc-db16e75242ab",
   "metadata": {},
   "source": [
    "Print out a backslash:\n"
   ]
  },
  {
   "cell_type": "code",
   "execution_count": 41,
   "id": "e07a9423-42a7-46b7-8c24-e4e1e0b04fcd",
   "metadata": {},
   "outputs": [
    {
     "name": "stdout",
     "output_type": "stream",
     "text": [
      "\\\\\n"
     ]
    }
   ],
   "source": [
    "# Write your code below and press Shift+Enter to execute\n",
    "print(\"\\\\\\\\\")"
   ]
  },
  {
   "cell_type": "markdown",
   "id": "6baa69d8-60c0-449c-a66c-b23b278d3dc4",
   "metadata": {},
   "source": [
    "<hr>\n"
   ]
  },
  {
   "cell_type": "markdown",
   "id": "435b3828-d247-4236-adb2-384f358f53f2",
   "metadata": {},
   "source": [
    "Convert the variable <code>f</code> to uppercase:\n"
   ]
  },
  {
   "cell_type": "code",
   "execution_count": 42,
   "id": "6be2f2be-c036-4cd6-9e65-8f291bb212d9",
   "metadata": {},
   "outputs": [],
   "source": [
    "# Write your code below and press Shift+Enter to execute\n",
    "\n",
    "f = \"You are wrong\""
   ]
  },
  {
   "cell_type": "markdown",
   "id": "6bd87ee6-88e9-402f-a628-0135bb52edeb",
   "metadata": {},
   "source": [
    "Convert the variable <code>f2</code> to lowercase:\n"
   ]
  },
  {
   "cell_type": "code",
   "execution_count": 43,
   "id": "30e54969-ba5d-42c6-8708-12a15a27ca98",
   "metadata": {},
   "outputs": [],
   "source": [
    "# Write your code below and press Shift+Enter to execute\n",
    "f2=\"YOU ARE RIGHT\""
   ]
  },
  {
   "cell_type": "markdown",
   "id": "ebcc92cc-3355-4377-bb60-17abe7935fb2",
   "metadata": {},
   "source": [
    "<hr>\n"
   ]
  },
  {
   "cell_type": "markdown",
   "id": "28495749-1f2e-45d6-ab35-0f1ebf96bdd9",
   "metadata": {},
   "source": [
    "Consider the variable <code>g</code>, and find the first index of the sub-string <code>snow</code>:\n"
   ]
  },
  {
   "cell_type": "code",
   "execution_count": 44,
   "id": "fe781f7e-51e3-4456-8b76-925ac4b62012",
   "metadata": {},
   "outputs": [],
   "source": [
    "# Write your code below and press Shift+Enter to execute\n",
    "\n",
    "g = \"Mary had a little lamb Little lamb, little lamb Mary had a little lamb \\\n",
    "Its fleece was white as snow And everywhere that Mary went Mary went, Mary went \\\n",
    "Everywhere that Mary went The lamb was sure to go\""
   ]
  },
  {
   "cell_type": "markdown",
   "id": "8203ede3-c0f1-4793-96bd-a8723112780a",
   "metadata": {},
   "source": [
    "In the variable <code>g</code>, replace the sub-string <code>Mary</code> with <code>Bob</code>:\n"
   ]
  },
  {
   "cell_type": "code",
   "execution_count": 45,
   "id": "7318dec4-6090-4680-8e08-85b4bf885296",
   "metadata": {},
   "outputs": [
    {
     "data": {
      "text/plain": [
       "'Bob had a little lamb Little lamb, little lamb Bob had a little lamb Its fleece was white as snow And everywhere that Bob went Bob went, Bob went Everywhere that Bob went The lamb was sure to go'"
      ]
     },
     "execution_count": 45,
     "metadata": {},
     "output_type": "execute_result"
    }
   ],
   "source": [
    "# Write your code below and press Shift+Enter to execute\n",
    "\n",
    "g.replace(\"Mary\", \"Bob\")"
   ]
  },
  {
   "cell_type": "markdown",
   "id": "220149cd-67b3-4471-8639-3411b79e8ca9",
   "metadata": {},
   "source": [
    "In the variable <code>g</code>, replace the sub-string <code>,</code> with <code>.</code>:\n"
   ]
  },
  {
   "cell_type": "code",
   "execution_count": 46,
   "id": "1497ae9a-4540-498a-8119-9006b227107f",
   "metadata": {},
   "outputs": [
    {
     "data": {
      "text/plain": [
       "'Mary had a little lamb Little lamb. little lamb Mary had a little lamb Its fleece was white as snow And everywhere that Mary went Mary went. Mary went Everywhere that Mary went The lamb was sure to go'"
      ]
     },
     "execution_count": 46,
     "metadata": {},
     "output_type": "execute_result"
    }
   ],
   "source": [
    "# Write your code below and press Shift+Enter to execute\n",
    "g.replace(\",\", \".\")"
   ]
  },
  {
   "cell_type": "markdown",
   "id": "713aee21-2e86-48ff-ba74-f1d9f9953ba9",
   "metadata": {},
   "source": [
    "In the variable <code>g</code>, split the substring to list:\n"
   ]
  },
  {
   "cell_type": "code",
   "execution_count": 47,
   "id": "b09512e8-2e12-44b5-81bb-42a157a9bbf2",
   "metadata": {},
   "outputs": [
    {
     "data": {
      "text/plain": [
       "['Mary',\n",
       " 'had',\n",
       " 'a',\n",
       " 'little',\n",
       " 'lamb',\n",
       " 'Little',\n",
       " 'lamb,',\n",
       " 'little',\n",
       " 'lamb',\n",
       " 'Mary',\n",
       " 'had',\n",
       " 'a',\n",
       " 'little',\n",
       " 'lamb',\n",
       " 'Its',\n",
       " 'fleece',\n",
       " 'was',\n",
       " 'white',\n",
       " 'as',\n",
       " 'snow',\n",
       " 'And',\n",
       " 'everywhere',\n",
       " 'that',\n",
       " 'Mary',\n",
       " 'went',\n",
       " 'Mary',\n",
       " 'went,',\n",
       " 'Mary',\n",
       " 'went',\n",
       " 'Everywhere',\n",
       " 'that',\n",
       " 'Mary',\n",
       " 'went',\n",
       " 'The',\n",
       " 'lamb',\n",
       " 'was',\n",
       " 'sure',\n",
       " 'to',\n",
       " 'go']"
      ]
     },
     "execution_count": 47,
     "metadata": {},
     "output_type": "execute_result"
    }
   ],
   "source": [
    "# Write your code below and press Shift+Enter to execute\n",
    "g.split()"
   ]
  },
  {
   "cell_type": "markdown",
   "id": "802427b7-25b6-42ad-a717-62805c777721",
   "metadata": {},
   "source": [
    "In the string <code>s3</code>, find whether the digit is present or not using the <code>\\d</code> and <code>search() </code>function:\n"
   ]
  },
  {
   "cell_type": "code",
   "execution_count": 48,
   "id": "8c9d8a06-ea87-42f0-b1db-be60bba6d168",
   "metadata": {},
   "outputs": [],
   "source": [
    "s3 = \"House number- 1105\"\n",
    "# Write your code below and press Shift+Enter to execute"
   ]
  },
  {
   "cell_type": "markdown",
   "id": "dfa110ea-c8d0-471c-a6be-6cdc3bd0cb1e",
   "metadata": {},
   "source": [
    "In the string <code>str1</code>, replace the sub-string <code>fox</code> with <code>bear</code> using <code>sub() </code>function:\n"
   ]
  },
  {
   "cell_type": "code",
   "execution_count": 49,
   "id": "58069e60-806b-4b6a-af3f-10f1d41f913c",
   "metadata": {},
   "outputs": [],
   "source": [
    "str1= \"The quick brown fox jumps over the lazy dog.\"\n",
    "\n",
    "# Write your code below and press Shift+Enter to execute\n",
    "new_str1=re.sub(r\"fox\", \"bear\", str1)\n"
   ]
  },
  {
   "cell_type": "markdown",
   "id": "3395b1bf-0f64-4e3c-9fb0-fd1427b28526",
   "metadata": {},
   "source": [
    "In the string <code>str2</code> find all the occurrences of <code>woo</code> using <code>findall()</code> function:\n"
   ]
  },
  {
   "cell_type": "code",
   "execution_count": 50,
   "id": "a3013493-8b8e-49ff-9f55-8c82c502e119",
   "metadata": {},
   "outputs": [
    {
     "name": "stdout",
     "output_type": "stream",
     "text": [
      "['woo', 'woo', 'woo', 'woo']\n"
     ]
    }
   ],
   "source": [
    "str2= \"How much wood would a woodchuck chuck, if a woodchuck could chuck wood?\"\n",
    "\n",
    "# Write your code below and press Shift+Enter to execute\n",
    "matches = re.findall(r\"woo\", str2)\n",
    "print(matches)"
   ]
  },
  {
   "cell_type": "markdown",
   "id": "50e0d5c9-abb7-4ed3-97e5-453a076b7cfe",
   "metadata": {},
   "source": [
    "<hr>\n",
    "<h2>The last exercise!</h2>\n",
    "<p>Congratulations, you have completed your first lesson and hands-on lab in Python.\n",
    "<hr>\n"
   ]
  },
  {
   "cell_type": "markdown",
   "id": "1e2f1e51-54a5-4504-ba3b-5eca0d4eeda0",
   "metadata": {},
   "source": [
    "## Author\n",
    "\n",
    "<a href=\"https://www.linkedin.com/in/joseph-s-50398b136/?utm_medium=Exinfluencer&utm_source=Exinfluencer&utm_content=000026UJ&utm_term=10006555&utm_id=NA-SkillsNetwork-Channel-SkillsNetworkCoursesIBMDeveloperSkillsNetworkPY0101ENSkillsNetwork19487395-2021-01-01\" target=\"_blank\">Joseph Santarcangelo</a>\n",
    "\n",
    "<img src=\"https://cf-courses-data.s3.us.cloud-object-storage.appdomain.cloud/IBMDeveloperSkillsNetwork-PY0101EN-SkillsNetwork/SNIBMfooter.png\" alt=\"\" width=\"\" height=\"\">\n"
   ]
  }
 ],
 "metadata": {
  "kernelspec": {
   "display_name": "base",
   "language": "python",
   "name": "python3"
  },
  "language_info": {
   "codemirror_mode": {
    "name": "ipython",
    "version": 3
   },
   "file_extension": ".py",
   "mimetype": "text/x-python",
   "name": "python",
   "nbconvert_exporter": "python",
   "pygments_lexer": "ipython3",
   "version": "3.12.7"
  },
  "prev_pub_hash": "62937b25e969b6a84522e40af2ae27d1289f9a903a524d03fbc7ad51c1e1dab3"
 },
 "nbformat": 4,
 "nbformat_minor": 4
}
